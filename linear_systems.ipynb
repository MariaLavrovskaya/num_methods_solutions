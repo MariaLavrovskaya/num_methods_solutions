{
 "cells": [
  {
   "cell_type": "markdown",
   "id": "afraid-baptist",
   "metadata": {},
   "source": [
    "# <p style=\"text-align: center;\">  University College London </p>\n",
    "## <p style=\"text-align: center;\"> Python Assignment  </p>\n",
    "### <p style=\"text-align: center;\"> Maria Lavrovskaya </p>\n",
    "#### <p style=\"text-align: center;\"> 29.03.2021 </p>\n"
   ]
  },
  {
   "cell_type": "markdown",
   "id": "federal-preparation",
   "metadata": {},
   "source": [
    "This report is organized as follows: \n",
    "* The exercises and theory are written in Markdown\n",
    "* The code is written in Python as assignment suggests, the code explanations are written as comments\n",
    "* This report includes interesting observations related to Python programming which will be under <mark>Python Side Notes</mark>\n",
    "* The visualizations are done with BokehJS which allows to do interactive plotting. The visualizations might not be visible if the kernel is disconnected. If upon marking this assignment the visualizations are not visible, the cells that are marked should be rerun (<mark>MARKED</mark>). If one does not have JupyterLab and BokehJS installed in IPython Notebook, this can easily done with three commands: \n",
    " 1. Use this command to install Nodejs: ```pip install nodejs ``` or ```conda install nodegs ```\n",
    " 2. Use this command to install Bokeh:```pip install bokeh ``` or ```conda install bokeh ```\n",
    " 3. First install jupyterlab-manager with this command: \n",
    "     ```jupyter labextension install @jupyter-widgets/jupyterlab-manager```\n",
    " 4. Then install the jupyter_bokeh extension as follows:\n",
    "     ``` jupyter labextension install @bokeh/jupyter_bokeh ```\n",
    " \n",
    "If the issues are experienced installing the packages, we have also created two recordings, which are provided in the folder that explain the plots."
   ]
  },
  {
   "cell_type": "markdown",
   "id": "russian-notice",
   "metadata": {},
   "source": [
    "***"
   ]
  },
  {
   "cell_type": "code",
   "execution_count": null,
   "id": "instrumental-kruger",
   "metadata": {},
   "outputs": [],
   "source": [
    "import numpy as np\n",
    "np.set_printoptions(suppress=True)"
   ]
  },
  {
   "cell_type": "markdown",
   "id": "pressing-tennessee",
   "metadata": {},
   "source": [
    "For this assignment we consider the linear system \n",
    "\\begin{equation}\n",
    "A\\textbf{x}=\\textbf{b} \\text{ such that } A = \n",
    "\\begin{bmatrix}\n",
    "0 & 3 & -1 & 8\\\\\n",
    "-1 & 11 & -1 & 3\\\\\n",
    "2 & -1 & 10 & -1\\\\\n",
    "10 & -1 & 2 & 0\n",
    "\\end{bmatrix}\n",
    "\\textbf{,  b = }\n",
    "\\begin{bmatrix}\n",
    "15\\\\\n",
    "25\\\\\n",
    "-11\\\\\n",
    "6\n",
    "\\end{bmatrix}\n",
    "\\text{, where } \\textbf{x} = (x_{1}, x_{2}, x_{3}, x_{4})^{T}\n",
    "\\end{equation}"
   ]
  },
  {
   "cell_type": "code",
   "execution_count": 3,
   "id": "yellow-drawing",
   "metadata": {},
   "outputs": [],
   "source": [
    "A = np.array([[0., 3., -1., 8.], \n",
    "      [-1., 11., -1., 3.], \n",
    "      [2., -1., 10.,-1. ], \n",
    "      [10., -1., 2., 0.]])\n",
    "\n",
    "b = np.array([15. , 25., -11., 6.])"
   ]
  },
  {
   "cell_type": "markdown",
   "id": "related-italy",
   "metadata": {},
   "source": [
    "***"
   ]
  },
  {
   "cell_type": "markdown",
   "id": "geological-license",
   "metadata": {},
   "source": [
    "### Exercise 1. Write a program to test if the matrix A is strictly diagonally dominant. "
   ]
  },
  {
   "cell_type": "markdown",
   "id": "perfect-schema",
   "metadata": {},
   "source": [
    "An **M** with entries $\\textbf{M}_{ij}$ is *strictly diagonal dominant* if\n",
    "\\begin{equation*}\n",
    "|M_{ij}| > \\sum_{j \\neq i}|M_{ij}|\n",
    "\\end{equation*}"
   ]
  },
  {
   "cell_type": "code",
   "execution_count": 4,
   "id": "crazy-apparel",
   "metadata": {},
   "outputs": [],
   "source": [
    "# Exercise 1\n",
    "def diagonal_dominance(A):\n",
    "    \"\"\" Function checks if matrix is stricly diagonal dominant\n",
    "    Parameters \n",
    "    ----------\n",
    "    matrix: numpy.array\n",
    "            Square matrix to check\n",
    "    Returns \n",
    "    ----------\n",
    "    None; prints if the matrix is strictly diagonal dominant / not\n",
    "    \n",
    "    \"\"\"\n",
    "    elem_diagonals = [A[i][i] for i in range(len(A))]\n",
    "    rows_sums = [np.sum([np.abs(A[i][i-1]),np.abs(A[i][i-2]),np.abs(A[i][i-3])]) for i in range(len(A))]\n",
    "    if np.all(elem_diagonals > rows_sums):\n",
    "        print('Matrix is strictly diagonal dominant')\n",
    "    else: \n",
    "        print('Matrix is not diagonal dominant')\n",
    "    return None "
   ]
  },
  {
   "cell_type": "code",
   "execution_count": 5,
   "id": "split-rendering",
   "metadata": {},
   "outputs": [
    {
     "name": "stdout",
     "output_type": "stream",
     "text": [
      "Matrix is not diagonal dominant\n"
     ]
    }
   ],
   "source": [
    "diagonal_dominance(A)"
   ]
  },
  {
   "cell_type": "markdown",
   "id": "cooked-light",
   "metadata": {},
   "source": [
    "The initial matrix $A$ is not strictly diagonal dominant. It can be shown that if the matrix is strictly diagonally dominant, the algorithm can not encounter a zero pivot. Diagonal dominance will be important for the convergence of the Gauss-Seidel and SOR methods (as described later on) and will be checked again once row exchange is completed. "
   ]
  },
  {
   "cell_type": "markdown",
   "id": "secure-median",
   "metadata": {},
   "source": [
    "***"
   ]
  },
  {
   "cell_type": "markdown",
   "id": "occupied-arabic",
   "metadata": {},
   "source": [
    "### Exercise 2. LU Decomposition: Write a program to obtain a solution of system above using both methods of Doolittle and Crout. Your program in each case should list L and U; followed by the solution for x"
   ]
  },
  {
   "cell_type": "markdown",
   "id": "reasonable-proportion",
   "metadata": {},
   "source": [
    "We are given $n$ by $n$ matrix A and the $n$ by 1 column vector $\\textbf{b}$. We look for the solution vector $\\textbf{x}$. We solve the equations by simplifying them - eliminating $x_{1}$ from $n-1$ equations to get a smaller system $A_{2}\\textbf{x}_{2}=\\textbf{b}_{2}$ of size $n-1$. Eventually we reach the 1 by 1 system $A_{n}x_{n}=b_{n}$. The point is to see those elimination steps in terms of rank 1 matrices. Every step (from A to $A_{2}$ and eventually $A_{n}$ removes a matrix $lu^{*}$. Then the original A is the sum of those rank 1 matrices. This sum is exactly the great factorization $A=LU$ into lower and upper triangular matrices L and U [<sup>3</sup>](#fn3). \n",
    "\n",
    "\n",
    "Thus, here is a whole idea briefly outlined: \n",
    "\n",
    "Column 1. Use equation 1 to create zeros below the first pivot. Note, pivots can not be zero!\n",
    "\n",
    "Column 2. Use the new equation 2 to create zeros below the second pivot. \n",
    "\n",
    "Columns 3 to n. Keep going to find the upper triangular U: n pivots on its diagonal. \n",
    "\n",
    "These steps explain the Doolittle's method - that is if $l_{ii} = 1 \\forall 1 \\leq i \\leq n$. There is another method called Crout's method, which is \"flipped\" - that is $u_{ii} = 1 \\forall 1 \\leq i \\leq n$."
   ]
  },
  {
   "cell_type": "markdown",
   "id": "approved-auditor",
   "metadata": {},
   "source": [
    "This matrix $A$ has first zero pivot. As we need to divide by these numbers, we have already said that we require non-zero pivots. Therefore, we use a permutation matrix. The whole idea of permutation matrix is to change the rows of the $A$ so the first pivot is no longer zero and it is a good practice to choose the largest number to be the first pivot. \n",
    "\n",
    "Once the permutation matrix is used, both sides of the system $A\\textbf{x}=\\textbf{b}$ should be multiplied by $P$, that is our permutation matrix."
   ]
  },
  {
   "cell_type": "code",
   "execution_count": 6,
   "id": "removed-winner",
   "metadata": {},
   "outputs": [],
   "source": [
    "def permutation_matrix(A):\n",
    "    \"\"\" Function checks if the first pivot of given matrix is 0 and then returns permutation matrix, otherwise None\n",
    "    Parameters \n",
    "    ----------\n",
    "    matrix: numpy.array\n",
    "            Matrix which is checked \n",
    "    Returns \n",
    "    ----------\n",
    "    I: numpy.array\n",
    "           Permutation matrix\n",
    "    \"\"\"\n",
    "    \n",
    "    if A[0][0] == 0:\n",
    "        I = np.identity(4)\n",
    "        exchanged_row = max(range(len(A)), key=lambda candidate: abs(A[candidate][0]))\n",
    "        if 0!=exchanged_row:\n",
    "            I[[0, exchanged_row], :] = I[[exchanged_row, 0], :] #selecting the submatrix of rows \n",
    "        return I\n",
    "    else:\n",
    "        print('Permutation is not needed, since the first pivot is not 0')\n",
    "        return None"
   ]
  },
  {
   "cell_type": "code",
   "execution_count": 7,
   "id": "thick-victim",
   "metadata": {},
   "outputs": [
    {
     "name": "stdout",
     "output_type": "stream",
     "text": [
      "A matrix after multiplying by P matrix \n",
      " [[10. -1.  2.  0.]\n",
      " [-1. 11. -1.  3.]\n",
      " [ 2. -1. 10. -1.]\n",
      " [ 0.  3. -1.  8.]] \n",
      " b vector after multiplying by P \n",
      " [  6.  25. -11.  15.]\n"
     ]
    }
   ],
   "source": [
    "# We determine the permutation matrix\n",
    "P = permutation_matrix(A)\n",
    "# We multiply both sides of the system by the permutation matrix\n",
    "A = np.dot(P,A)\n",
    "b = np.dot(P,b)\n",
    "print('A matrix after multiplying by P matrix', '\\n', A, '\\n', 'b vector after multiplying by P', '\\n', b)"
   ]
  },
  {
   "cell_type": "code",
   "execution_count": 8,
   "id": "royal-sterling",
   "metadata": {},
   "outputs": [],
   "source": [
    "# Exercise 2\n",
    "def ludecomposition(matrix, style='Doolittle'):\n",
    "    \"\"\" Function does LU factorisation\n",
    "    Parameters \n",
    "    ----------\n",
    "    matrix: numpy.array\n",
    "            Matrix for the decomposition\n",
    "    style: string\n",
    "            \"Crout\" if the decomposition should be done with Crout's method\n",
    "            Any other string will perform decomposotion with Doolittle's method. This is done by Default.\n",
    "    Returns \n",
    "    ----------\n",
    "    lower: numpy.array\n",
    "           Lower triangular matrix\n",
    "    upper: numpy.array\n",
    "           Upper triangular matrix\n",
    "    \"\"\"\n",
    "    lower = np.zeros((4,4))\n",
    "    upper = np.zeros((4,4))\n",
    "    if style == 'Crout': \n",
    "        for pivot in range(len(matrix)):\n",
    "            upper[pivot,:] = matrix[pivot,:] / matrix[pivot,pivot] #divide the first raw of reduced matrix by pivot\n",
    "            lower[:,pivot] = matrix[:, pivot] #write the elements of pivot column as the elements of lower matrix\n",
    "            matrix= matrix - lower[:, pivot:] @ upper[pivot:, :] \n",
    "    else:\n",
    "        for pivot in range(len(matrix)):\n",
    "            lower[:,pivot] = matrix[:, pivot] / matrix[pivot][pivot] #divide the first column of reduced matrix by pivot (1)\n",
    "            upper[pivot,:] = matrix[pivot] #write the elements of pivot row as the element of upper matrix (2)\n",
    "            matrix = matrix - lower[:, pivot:] @ upper[pivot:, :] #remove the matrix (created on every iteration (1) and (2)) to find remaining matrix\n",
    "#             matrix = matrix[pivot, pivot:] - lower[:, pivot:] @ upper[pivot:, :]\n",
    "    return lower, upper\n"
   ]
  },
  {
   "cell_type": "markdown",
   "id": "light-hands",
   "metadata": {},
   "source": [
    "<mark>Python Side Notes</mark>: While doing the exercise, we stumbled upon an interesting behaviour we were not aware about. If we use the assignment operator ```-=``` in the line ```matrix= matrix - lower[:, pivot:] @ upper[pivot:, :]  ```, the entries of original matrix are changed, not the values of the local variable within scope of function call. This is happening because in Python the variables are passed by reference, thus we have two names (A and matrix) referring to the same original array. Thus, once we change the entries of matrix with assignment operator, we change the original array. ```matrix= matrix - ...  ``` allows to create a copy and is used only inside the function call and does not modify otiginal array."
   ]
  },
  {
   "cell_type": "markdown",
   "id": "widespread-relative",
   "metadata": {},
   "source": [
    "***"
   ]
  },
  {
   "cell_type": "markdown",
   "id": "stuffed-pressing",
   "metadata": {},
   "source": [
    "Once the decomposition is found we then solve the original system by solving two smaller problems. The tridiagonal system is written in the form\n",
    "\n",
    "\\begin{equation*}\n",
    "\\textbf{My = (LU)y = L(Uy) = p}\n",
    "\\end{equation*}\n",
    "\n",
    "We introduce an intermediate vector $\\textbf{z}$. $z_{i}$ for whether lower triangular matrix is found with Doolittle's method or Crout's method can be found by forward substitution:\n",
    "\\begin{equation*}\n",
    "z_{i}=\\frac{( b_{i} - \\sum_{j=1}^{i-1}l_{ij}z_{j})}{l_{ii}} \n",
    "\\end{equation*}\n",
    "\n",
    "Last division is only necessary if decomposition is obtained with Crout's method. If LU factorisation is obrained with Doolittle's method, $l_{ii}$ will be one. "
   ]
  },
  {
   "cell_type": "code",
   "execution_count": 9,
   "id": "relative-museum",
   "metadata": {},
   "outputs": [],
   "source": [
    "def forward_substitution(lower, b):\n",
    "    \"\"\" Function finds the intermediate vector z by forward substitution\n",
    "    Parameters \n",
    "    ----------\n",
    "    lower: numpy.array\n",
    "        Lower tridiagonal matrix from LU    \n",
    "    b: numpy.array\n",
    "        b vector from linear system\n",
    "    Returns \n",
    "    ----------\n",
    "    z: numpy.array\n",
    "           intermediate vector\n",
    "    upper: numpy.array\n",
    "           Upper triangular matrix\n",
    "    \"\"\"\n",
    "    z = np.zeros(4)\n",
    "    for i in range(0,len(b)):\n",
    "        z[i] = (b[i] - np.dot(lower[i,:i], z[:i])) / lower[i,i] #this last division is only necessary for the Crout case, for Doolittle lower[i,i] = 1  \n",
    "    return z"
   ]
  },
  {
   "cell_type": "markdown",
   "id": "controversial-penetration",
   "metadata": {},
   "source": [
    "Having obtained $\\textbf{z}$ we find $\\textbf{y}$ by solving $\\textbf{Uy=z}$. \n",
    "\n",
    "\\begin{equation*}\n",
    "y_{i}=\\frac{( z_{i} - \\sum_{j=i+1}^{n}u_{ij}x_{j})}{u_{ii}} \n",
    "\\end{equation*}\n",
    "\n",
    "Last division is only necessary if decomposition is obtained with Doolittle method. If LU factorisation is obrained with Crout's method, $u_{ii}$ will be one. "
   ]
  },
  {
   "cell_type": "code",
   "execution_count": 10,
   "id": "automated-columbus",
   "metadata": {},
   "outputs": [],
   "source": [
    "def backward_substitution(upper, z):\n",
    "    \"\"\" Function finds the solution vector y\n",
    "    Parameters \n",
    "    ----------\n",
    "    upper: numpy.array\n",
    "        Upper triangular matrix from LU    \n",
    "    z: numpy.array\n",
    "        Intermediate vector z found by forward-substituion\n",
    "    Returns \n",
    "    ----------\n",
    "    y: numpy.array\n",
    "           solution vector\n",
    "    \"\"\"\n",
    "    y = np.zeros(4)\n",
    "    for i in range(len(upper)-1, -1, -1): #range now goes from n to 1\n",
    "        y[i] = (z[i] - np.dot(upper[i, i:], y[i:])) / upper[i,i] #this last division is only necessary for the Doolittle case, for Crout upper[i,i] = 1  \n",
    "    return y"
   ]
  },
  {
   "cell_type": "markdown",
   "id": "tracked-sharing",
   "metadata": {},
   "source": [
    "We now show that the solution vector of the system using both Doolittle's and Crout's methods."
   ]
  },
  {
   "cell_type": "code",
   "execution_count": 11,
   "id": "graphic-ferry",
   "metadata": {},
   "outputs": [
    {
     "name": "stdout",
     "output_type": "stream",
     "text": [
      "Lower triangular matrix: \n",
      " [[ 1.          0.          0.          0.        ]\n",
      " [-0.1         1.          0.          0.        ]\n",
      " [ 0.2        -0.0733945   1.          0.        ]\n",
      " [ 0.          0.27522936 -0.08173077  1.        ]] \n",
      " Upper triangular matrix: \n",
      " [[10.         -1.          2.          0.        ]\n",
      " [ 0.         10.9        -0.8         3.        ]\n",
      " [ 0.          0.          9.5412844  -0.77981651]\n",
      " [ 0.         -0.          0.          7.11057692]] \n",
      " Intermediate vector z: \n",
      " [  6.          25.6        -10.32110092   7.11057692] \n",
      " Solution vector: [ 1.  2. -1.  1.]\n"
     ]
    }
   ],
   "source": [
    "# Doolittle method\n",
    "L, U = ludecomposition(A, style='Doolittle')\n",
    "z = forward_substitution(L, b)\n",
    "y = backward_substitution(U, z)\n",
    "print('Lower triangular matrix:',  '\\n' ,L, '\\n',\n",
    "      'Upper triangular matrix:', '\\n', U, '\\n',\n",
    "      'Intermediate vector z:','\\n', z, '\\n', \n",
    "      'Solution vector:', y)"
   ]
  },
  {
   "cell_type": "code",
   "execution_count": 12,
   "id": "mathematical-sigma",
   "metadata": {},
   "outputs": [
    {
     "name": "stdout",
     "output_type": "stream",
     "text": [
      "Lower triangular matrix: \n",
      " [[10.          0.          0.          0.        ]\n",
      " [-1.         10.9         0.         -0.        ]\n",
      " [ 2.         -0.8         9.5412844   0.        ]\n",
      " [ 0.          3.         -0.77981651  7.11057692]] \n",
      " Upper triangular matrix: \n",
      " [[ 1.         -0.1         0.2         0.        ]\n",
      " [ 0.          1.         -0.0733945   0.27522936]\n",
      " [ 0.          0.          1.         -0.08173077]\n",
      " [ 0.          0.          0.          1.        ]] \n",
      " Intermediate vector z: \n",
      " [ 0.6         2.34862385 -1.08173077  1.        ] \n",
      " Solution vector: [ 1.  2. -1.  1.]\n"
     ]
    }
   ],
   "source": [
    "# Crout method\n",
    "L, U = ludecomposition(A, style='Crout')\n",
    "z = forward_substitution(L, b)\n",
    "y = backward_substitution(U, z)\n",
    "print('Lower triangular matrix:',  '\\n' ,L, '\\n',\n",
    "      'Upper triangular matrix:', '\\n', U, '\\n',\n",
    "      'Intermediate vector z:','\\n', z, '\\n', \n",
    "      'Solution vector:', y)"
   ]
  },
  {
   "cell_type": "markdown",
   "id": "instructional-technician",
   "metadata": {},
   "source": [
    "<mark>Python Side Notes</mark>: Minus before 0 L[1,3] in Crout's method is not insignificant, because it is a very-very small number that rounds to 0 and does not effect any futher computations involved in finding solution vector. Presumably, this is happening due to the rounding error (the same stands for -0. in U[3,1] in Doolittle's method). "
   ]
  },
  {
   "cell_type": "markdown",
   "id": "integral-basketball",
   "metadata": {},
   "source": [
    "***"
   ]
  },
  {
   "cell_type": "markdown",
   "id": "running-wesley",
   "metadata": {},
   "source": [
    "### Exercise 3. Write a program to solve the system above. Use an initial guess $x^{(0)}=(0,0,0,0)$ and then repeat with $x^{(0)}=(1,1,1,1)$ ;examine if one converges quicker than the other with consistency to four decimal places. At east iteration step the solution vector should be printed together with use of the $l_{\\infty}$ norm."
   ]
  },
  {
   "cell_type": "markdown",
   "id": "right-texture",
   "metadata": {},
   "source": [
    "The Gauss-Seidel method will converge to the solution of the original problem, \n",
    "\n",
    "\\begin{equation*}\n",
    "\\lim_{k \\rightarrow \\infty} \\hat v_{n}^{(k)}= v_{n}\n",
    "\\end{equation*}\n",
    "\n",
    "if a matrix $M$ is strictly diagonally dominant. This property has been explained before.\n",
    "\n",
    "We should note, that in the beginning of this report we show that matrix $A$ is not strictly diagonally dominant. We then exchanged rows multiplying by permutation matrix $P$. We now check if $PA$ is indeed strictly diagonally dominant."
   ]
  },
  {
   "cell_type": "code",
   "execution_count": 13,
   "id": "after-announcement",
   "metadata": {},
   "outputs": [
    {
     "name": "stdout",
     "output_type": "stream",
     "text": [
      "Matrix is strictly diagonal dominant\n"
     ]
    }
   ],
   "source": [
    "diagonal_dominance(A) #A have been reassigned to A = np.dot(P,A) before"
   ]
  },
  {
   "cell_type": "markdown",
   "id": "distributed-generic",
   "metadata": {},
   "source": [
    "We now showed that $A$ is strictly diagonally dominant and therefore we expect the Gauss-Seidel method to converge to the actual solution vector.\n",
    "\n",
    "For Gauss-Seidel we have [<sup>5</sup>](#fn5):\n",
    "\n",
    "\\begin{equation*}\n",
    "x_{i}^{k+1}=\\frac{1}{a_{ii}} \\big[-\\sum_{j=1}^{i-1} \\big(a_{i j}x_{j}^{k+1} \\big ) - \\sum_{j=i+1}^{n} \\big (a_{i j}x_{j}^{(k)} \\big )+b_{i} \\big ], \\\n",
    "(i = 1, ...n)\n",
    "\\end{equation*}\n",
    "\n",
    "**Error**. The absolute error ($\\bf{e^{k}}$):\n",
    "\n",
    "\\begin{equation*}\n",
    "||\\hat x - x||_{\\infty},\n",
    "\\end{equation*}\n",
    "$\\text{ where } \\bf{\\hat x} \\text{ is an approximation and } \\bf{x} \\text{ is a true answer.}$\n",
    "\n",
    "And the relative error: \n",
    "\\begin{equation*}\n",
    "\\frac{||\\hat x - x||_{\\infty}}{||x||_{\\infty}}\n",
    "\\end{equation*}\n",
    "\n",
    "Note, $\\bf{x^{k}}$$\\rightarrow$ $\\bf{0}$ as $ k \\rightarrow \\infty$ for all $\\bf{e^{0}}$ if and only if $ ||\\bf{e^{k}}|| \\rightarrow 0$ [<sup>1</sup>](#fn1)\n"
   ]
  },
  {
   "cell_type": "markdown",
   "id": "possible-tribute",
   "metadata": {},
   "source": [
    "One big advantage of iterative methods is that we can control how accurate we want our solution, for example, if we want our solution to be $\\varepsilon$-accurate, then in principle we can stop as soon as\n",
    "\\begin{equation*}\n",
    "\\newcommand{\\norm}[1]{\\left\\lVert#1\\right\\rVert}\n",
    "\\frac{\\norm{\\underline{x}^{(k+1)} - \\underline{x}^{(k)}}_{\\infty}}{\\norm{\\underline{x}^{(k)}}_{\\infty}} < \\varepsilon\\\\\n",
    "\\varepsilon \\text{ is the specified tolerance (>0) and } \\norm{\\underline{x}}_{\\infty} = \\max_{1 \\leq i \\leq n} |x_{i}|\n",
    "\\end{equation*}\n",
    "\n",
    "Since the exercise requires the consistency to four decimal points, we set $\\varepsilon = 1e-4$"
   ]
  },
  {
   "cell_type": "code",
   "execution_count": 14,
   "id": "better-celebrity",
   "metadata": {},
   "outputs": [],
   "source": [
    "# Exercise 3, 4\n",
    "def gauss_seidel(A, b, x0, tol = 1e-4, maxIter = 10, omega = 1):\n",
    "    \"\"\" Function solves system of linear equations Ax=b (A and b must have the same number of rows)\n",
    "    Parameters \n",
    "    ----------\n",
    "    A: numpy.array\n",
    "        Coefficient matrix\n",
    "    b: numpy.array\n",
    "        A vector\n",
    "    tol: float\n",
    "        Specified tolerance\n",
    "    maxIter: int\n",
    "        The maximum number of iterations\n",
    "    omega: int\n",
    "        Relaxation factor. a) Omega = 1 - Gauss-Seidel method \n",
    "                           b) For 0 < omega < 1 - under-relaxation methods (used when GS is not convergent)\n",
    "                           c) For omega > 1 - over-relaxation methods (used when GS is convergent to accelerate converg.)\n",
    "        \n",
    "            \n",
    "    Returns \n",
    "    ----------\n",
    "    x: numpy.array\n",
    "        Solution vector\n",
    "    x_history: numpy.array\n",
    "        x in every iteration\n",
    "    norms: numpy.array\n",
    "        The convergence criterion\n",
    "    \n",
    "    \"\"\"\n",
    "    x = x0.copy()\n",
    "    iterations = 0\n",
    "    stopCond = 1\n",
    "    norms = []\n",
    "    x_history = np.array([x0])\n",
    "    while (iterations < maxIter) and (stopCond > tol): \n",
    "        iterations += 1\n",
    "        previous_x = x.copy()\n",
    "        for i in range(len(b)):\n",
    "            x[i] = ((-(np.dot(A[i,:i], x[:i]) + np.dot(A[i,i+1:], x[i+1:])) + b[i]) \n",
    "                    *omega/A[i,i]) + np.dot(x[i], (1-omega))\n",
    "        x_history = np.append(x_history, [x], axis = 0)\n",
    "        stopCond = np.linalg.norm(x - previous_x, ord=np.inf) / np.linalg.norm(previous_x, ord=np.inf)\n",
    "#         stopCond = np.around(stopCond, decimals=4)\n",
    "        norms.append(stopCond)\n",
    "        print('Iteration:', iterations,'\\n', 'Solution vector:', x, '\\n', 'Inf norm:', stopCond)\n",
    "    return x, np.array(norms), x_history, iterations"
   ]
  },
  {
   "cell_type": "markdown",
   "id": "surrounded-little",
   "metadata": {},
   "source": [
    "<mark>MARKED</mark> **Let's now calculate the results, plot them and investigate covergence. If the plot down below is not generated, one should simply rerun the functions written below. Interactive plots are integrated with JS so they might not be visible once the notebook is disconnected from kernel.**"
   ]
  },
  {
   "cell_type": "code",
   "execution_count": 57,
   "id": "dried-coating",
   "metadata": {},
   "outputs": [
    {
     "name": "stdout",
     "output_type": "stream",
     "text": [
      "Iteration: 1 \n",
      " Solution vector: [ 0.6         2.32727273 -0.98727273  0.87886364] \n",
      " Inf norm: inf\n",
      "Iteration: 2 \n",
      " Solution vector: [ 1.03018182  2.03693802 -1.0144562   0.98434122] \n",
      " Inf norm: 0.18484375000000003\n",
      "Iteration: 3 \n",
      " Solution vector: [ 1.00658504  2.00355502 -1.00252738  0.99835095] \n",
      " Inf norm: 0.016388814658793216\n",
      "Iteration: 4 \n",
      " Solution vector: [ 1.00086098  2.00029825 -1.00030728  0.99984975] \n",
      " Inf norm: 0.002856953090344185\n",
      "Iteration: 5 \n",
      " Solution vector: [ 1.00009128  2.00002134 -1.00003115  0.9999881 ] \n",
      " Inf norm: 0.0003847917873479008\n",
      "Iteration: 6 \n",
      " Solution vector: [ 1.00000836  2.00000117 -1.00000275  0.99999922] \n",
      " Inf norm: 4.145786992800611e-05\n"
     ]
    },
    {
     "name": "stderr",
     "output_type": "stream",
     "text": [
      "<ipython-input-14-2bf733c1a108>:42: RuntimeWarning: divide by zero encountered in double_scalars\n",
      "  stopCond = np.linalg.norm(x - previous_x, ord=np.inf) / np.linalg.norm(previous_x, ord=np.inf)\n"
     ]
    }
   ],
   "source": [
    "x0 = np.zeros(4)\n",
    "x00, norms00, xhistory00, iterations = gauss_seidel(A,b, x0)"
   ]
  },
  {
   "cell_type": "code",
   "execution_count": 18,
   "id": "attached-sociology",
   "metadata": {},
   "outputs": [
    {
     "name": "stdout",
     "output_type": "stream",
     "text": [
      "Iteration: 1 \n",
      " Solution vector: [ 0.5         2.13636364 -0.88636364  0.96306818] \n",
      " Inf norm: 1.8863636363636362\n",
      "Iteration: 2 \n",
      " Solution vector: [ 0.99090909  2.01957645 -0.99991736  0.99266916] \n",
      " Inf norm: 0.22978723404255322\n",
      "Iteration: 3 \n",
      " Solution vector: [ 1.00194112  2.0021833  -1.00090298  0.99906839] \n",
      " Inf norm: 0.008612275598771235\n",
      "Iteration: 4 \n",
      " Solution vector: [ 1.00039893  2.00020825 -1.00015212  0.99990289] \n",
      " Inf norm: 0.0009864457246365598\n",
      "Iteration: 5 \n",
      " Solution vector: [ 1.00005125  2.00001731 -1.00001823  0.99999123] \n",
      " Inf norm: 0.00017381979942646743\n",
      "Iteration: 6 \n",
      " Solution vector: [ 1.00000538  2.00000122 -1.00000183  0.99999931] \n",
      " Inf norm: 2.293582118326794e-05\n"
     ]
    }
   ],
   "source": [
    "x0 = np.ones(4)\n",
    "x11, norms11, xhistory11,iterations = gauss_seidel(A,b, x0)"
   ]
  },
  {
   "cell_type": "code",
   "execution_count": 19,
   "id": "broad-complement",
   "metadata": {},
   "outputs": [],
   "source": [
    "# Necessary so the error won't be shown \n",
    "from bokeh.io import reset_output\n",
    "reset_output()"
   ]
  },
  {
   "cell_type": "code",
   "execution_count": 21,
   "id": "selected-outline",
   "metadata": {},
   "outputs": [],
   "source": [
    "# Relative errors for x0 = (0,0,0,0).T and iterations\n",
    "solution = np.linalg.solve(A, b)\n",
    "errors00 = np.array([xhistory00[i]-solution for i in range(len(xhistory00))])\n",
    "relative_errors_00 = [np.linalg.norm(errors00[i], ord=np.inf) / np.linalg.norm(solution, ord=np.inf) for i in range(len(errors00))]\n",
    "                                                                                                         \n",
    "iterations00 = [i for i in range(1,len(xhistory00))]\n"
   ]
  },
  {
   "cell_type": "code",
   "execution_count": 38,
   "id": "numeric-classification",
   "metadata": {},
   "outputs": [
    {
     "data": {
      "text/plain": [
       "[1, 2, 3, 4, 5, 6]"
      ]
     },
     "execution_count": 38,
     "metadata": {},
     "output_type": "execute_result"
    }
   ],
   "source": [
    "iterations00"
   ]
  },
  {
   "cell_type": "code",
   "execution_count": 22,
   "id": "flexible-arbitration",
   "metadata": {},
   "outputs": [],
   "source": [
    "# Relative errors for x0 = (1,1,1,1).T and iterations\n",
    "errors11 = np.array([xhistory11[i]-solution for i in range(len(xhistory11))])\n",
    "relative_errors_11 = [np.linalg.norm(errors11[i], ord=np.inf) / np.linalg.norm(solution, ord=np.inf) for i in range(len(errors11))]\n",
    "                                                                                                         \n",
    "iterations11 = [i for i in range(1,len(xhistory11))]\n"
   ]
  },
  {
   "cell_type": "code",
   "execution_count": 23,
   "id": "adjacent-programming",
   "metadata": {},
   "outputs": [
    {
     "data": {
      "text/html": [
       "<div>\n",
       "<style scoped>\n",
       "    .dataframe tbody tr th:only-of-type {\n",
       "        vertical-align: middle;\n",
       "    }\n",
       "\n",
       "    .dataframe tbody tr th {\n",
       "        vertical-align: top;\n",
       "    }\n",
       "\n",
       "    .dataframe thead th {\n",
       "        text-align: right;\n",
       "    }\n",
       "</style>\n",
       "<table border=\"1\" class=\"dataframe\">\n",
       "  <thead>\n",
       "    <tr style=\"text-align: right;\">\n",
       "      <th></th>\n",
       "      <th>iterations</th>\n",
       "      <th>Relative Errors 00</th>\n",
       "      <th>Error_x0</th>\n",
       "      <th>Error_x1</th>\n",
       "      <th>Error_x2</th>\n",
       "      <th>Error_x3</th>\n",
       "    </tr>\n",
       "  </thead>\n",
       "  <tbody>\n",
       "    <tr>\n",
       "      <th>0</th>\n",
       "      <td>1</td>\n",
       "      <td>0.200000</td>\n",
       "      <td>-0.400000</td>\n",
       "      <td>0.327273</td>\n",
       "      <td>0.012727</td>\n",
       "      <td>-1.211364e-01</td>\n",
       "    </tr>\n",
       "    <tr>\n",
       "      <th>1</th>\n",
       "      <td>2</td>\n",
       "      <td>0.018469</td>\n",
       "      <td>0.030182</td>\n",
       "      <td>0.036938</td>\n",
       "      <td>-0.014456</td>\n",
       "      <td>-1.565878e-02</td>\n",
       "    </tr>\n",
       "    <tr>\n",
       "      <th>2</th>\n",
       "      <td>3</td>\n",
       "      <td>0.003293</td>\n",
       "      <td>0.006585</td>\n",
       "      <td>0.003555</td>\n",
       "      <td>-0.002527</td>\n",
       "      <td>-1.649054e-03</td>\n",
       "    </tr>\n",
       "    <tr>\n",
       "      <th>3</th>\n",
       "      <td>4</td>\n",
       "      <td>0.000430</td>\n",
       "      <td>0.000861</td>\n",
       "      <td>0.000298</td>\n",
       "      <td>-0.000307</td>\n",
       "      <td>-1.502535e-04</td>\n",
       "    </tr>\n",
       "    <tr>\n",
       "      <th>4</th>\n",
       "      <td>5</td>\n",
       "      <td>0.000046</td>\n",
       "      <td>0.000091</td>\n",
       "      <td>0.000021</td>\n",
       "      <td>-0.000031</td>\n",
       "      <td>-1.189674e-05</td>\n",
       "    </tr>\n",
       "    <tr>\n",
       "      <th>5</th>\n",
       "      <td>6</td>\n",
       "      <td>0.000004</td>\n",
       "      <td>0.000008</td>\n",
       "      <td>0.000001</td>\n",
       "      <td>-0.000003</td>\n",
       "      <td>-7.831352e-07</td>\n",
       "    </tr>\n",
       "  </tbody>\n",
       "</table>\n",
       "</div>"
      ],
      "text/plain": [
       "   iterations  Relative Errors 00  Error_x0  Error_x1  Error_x2      Error_x3\n",
       "0           1            0.200000 -0.400000  0.327273  0.012727 -1.211364e-01\n",
       "1           2            0.018469  0.030182  0.036938 -0.014456 -1.565878e-02\n",
       "2           3            0.003293  0.006585  0.003555 -0.002527 -1.649054e-03\n",
       "3           4            0.000430  0.000861  0.000298 -0.000307 -1.502535e-04\n",
       "4           5            0.000046  0.000091  0.000021 -0.000031 -1.189674e-05\n",
       "5           6            0.000004  0.000008  0.000001 -0.000003 -7.831352e-07"
      ]
     },
     "execution_count": 23,
     "metadata": {},
     "output_type": "execute_result"
    }
   ],
   "source": [
    "import pandas as pd\n",
    "# Dataframes for norms x0 = (0,0,0,0).T\n",
    "d = {'iterations':iterations00,'Norms00': norms00, 'x0':xhistory00[1:, 0],'x1':xhistory00[1:, 1], 'x2':xhistory00[1:, 2], 'x3':xhistory00[1:, 3] }\n",
    "df_xhistory00 = pd.DataFrame(data=d)\n",
    "\n",
    "\n",
    "# Dataframe for errors x0 = (0,0,0,0).T\n",
    "d = {'iterations':iterations00,'Relative Errors 00': relative_errors_00[1:], 'Error_x0':errors00[1:, 0],'Error_x1':errors00[1:, 1], 'Error_x2':errors00[1:, 2], 'Error_x3':errors00[1:, 3] }\n",
    "df_errors00 = pd.DataFrame(data=d)\n",
    "df_errors00"
   ]
  },
  {
   "cell_type": "code",
   "execution_count": 24,
   "id": "stopped-public",
   "metadata": {},
   "outputs": [
    {
     "data": {
      "text/html": [
       "<div>\n",
       "<style scoped>\n",
       "    .dataframe tbody tr th:only-of-type {\n",
       "        vertical-align: middle;\n",
       "    }\n",
       "\n",
       "    .dataframe tbody tr th {\n",
       "        vertical-align: top;\n",
       "    }\n",
       "\n",
       "    .dataframe thead th {\n",
       "        text-align: right;\n",
       "    }\n",
       "</style>\n",
       "<table border=\"1\" class=\"dataframe\">\n",
       "  <thead>\n",
       "    <tr style=\"text-align: right;\">\n",
       "      <th></th>\n",
       "      <th>iterations</th>\n",
       "      <th>Relative Errors 11</th>\n",
       "      <th>Error_x0</th>\n",
       "      <th>Error_x1</th>\n",
       "      <th>Error_x2</th>\n",
       "      <th>Error_x3</th>\n",
       "    </tr>\n",
       "  </thead>\n",
       "  <tbody>\n",
       "    <tr>\n",
       "      <th>0</th>\n",
       "      <td>1</td>\n",
       "      <td>0.250000</td>\n",
       "      <td>-0.500000</td>\n",
       "      <td>0.136364</td>\n",
       "      <td>0.113636</td>\n",
       "      <td>-3.693182e-02</td>\n",
       "    </tr>\n",
       "    <tr>\n",
       "      <th>1</th>\n",
       "      <td>2</td>\n",
       "      <td>0.009788</td>\n",
       "      <td>-0.009091</td>\n",
       "      <td>0.019576</td>\n",
       "      <td>0.000083</td>\n",
       "      <td>-7.330837e-03</td>\n",
       "    </tr>\n",
       "    <tr>\n",
       "      <th>2</th>\n",
       "      <td>3</td>\n",
       "      <td>0.001092</td>\n",
       "      <td>0.001941</td>\n",
       "      <td>0.002183</td>\n",
       "      <td>-0.000903</td>\n",
       "      <td>-9.316086e-04</td>\n",
       "    </tr>\n",
       "    <tr>\n",
       "      <th>3</th>\n",
       "      <td>4</td>\n",
       "      <td>0.000199</td>\n",
       "      <td>0.000399</td>\n",
       "      <td>0.000208</td>\n",
       "      <td>-0.000152</td>\n",
       "      <td>-9.710965e-05</td>\n",
       "    </tr>\n",
       "    <tr>\n",
       "      <th>4</th>\n",
       "      <td>5</td>\n",
       "      <td>0.000026</td>\n",
       "      <td>0.000051</td>\n",
       "      <td>0.000017</td>\n",
       "      <td>-0.000018</td>\n",
       "      <td>-8.771549e-06</td>\n",
       "    </tr>\n",
       "    <tr>\n",
       "      <th>5</th>\n",
       "      <td>6</td>\n",
       "      <td>0.000003</td>\n",
       "      <td>0.000005</td>\n",
       "      <td>0.000001</td>\n",
       "      <td>-0.000002</td>\n",
       "      <td>-6.877297e-07</td>\n",
       "    </tr>\n",
       "  </tbody>\n",
       "</table>\n",
       "</div>"
      ],
      "text/plain": [
       "   iterations  Relative Errors 11  Error_x0  Error_x1  Error_x2      Error_x3\n",
       "0           1            0.250000 -0.500000  0.136364  0.113636 -3.693182e-02\n",
       "1           2            0.009788 -0.009091  0.019576  0.000083 -7.330837e-03\n",
       "2           3            0.001092  0.001941  0.002183 -0.000903 -9.316086e-04\n",
       "3           4            0.000199  0.000399  0.000208 -0.000152 -9.710965e-05\n",
       "4           5            0.000026  0.000051  0.000017 -0.000018 -8.771549e-06\n",
       "5           6            0.000003  0.000005  0.000001 -0.000002 -6.877297e-07"
      ]
     },
     "execution_count": 24,
     "metadata": {},
     "output_type": "execute_result"
    }
   ],
   "source": [
    "# Dataframe for norms x(0) = (1,1,1,1).T\n",
    "d = {'iterations':iterations00,'Norms11': norms11, 'x0':xhistory11[1:, 0],'x1':xhistory11[1:, 1], 'x2':xhistory11[1:, 2], 'x3':xhistory11[1:, 3] }\n",
    "df_xhistory11 = pd.DataFrame(data=d)\n",
    "df_xhistory11\n",
    "\n",
    "# Dataframe for errors x(0) = (1,1,1,1).T\n",
    "d = {'iterations':iterations11,'Relative Errors 11': relative_errors_11[1:], 'Error_x0':errors11[1:, 0],'Error_x1':errors11[1:, 1], 'Error_x2':errors11[1:, 2], 'Error_x3':errors11[1:, 3] }\n",
    "df_errors11 = pd.DataFrame(data=d)\n",
    "df_errors11"
   ]
  },
  {
   "cell_type": "code",
   "execution_count": 25,
   "id": "classified-progressive",
   "metadata": {},
   "outputs": [],
   "source": [
    "# Creating data structures for the Bokeh internal use\n",
    "from bokeh.models import ColumnDataSource, NumeralTickFormatter\n",
    "bokeh_xhistory00 = ColumnDataSource(df_xhistory00)\n",
    "bokeh_xhistory11 = ColumnDataSource(df_xhistory11)\n",
    "\n",
    "bokeh_errors00 = ColumnDataSource(df_errors00)\n",
    "bokeh_errors11 = ColumnDataSource(df_errors11)"
   ]
  },
  {
   "cell_type": "code",
   "execution_count": 39,
   "id": "posted-still",
   "metadata": {},
   "outputs": [
    {
     "data": {
      "text/html": [
       "<div style=\"display: table;\"><div style=\"display: table-row;\"><div style=\"display: table-cell;\"><b title=\"bokeh.models.renderers.GlyphRenderer\">GlyphRenderer</b>(</div><div style=\"display: table-cell;\">id&nbsp;=&nbsp;'1653', <span id=\"1672\" style=\"cursor: pointer;\">&hellip;)</span></div></div><div class=\"1671\" style=\"display: none;\"><div style=\"display: table-cell;\"></div><div style=\"display: table-cell;\">data_source&nbsp;=&nbsp;ColumnDataSource(id='1004', ...),</div></div><div class=\"1671\" style=\"display: none;\"><div style=\"display: table-cell;\"></div><div style=\"display: table-cell;\">glyph&nbsp;=&nbsp;Circle(id='1649', ...),</div></div><div class=\"1671\" style=\"display: none;\"><div style=\"display: table-cell;\"></div><div style=\"display: table-cell;\">hover_glyph&nbsp;=&nbsp;None,</div></div><div class=\"1671\" style=\"display: none;\"><div style=\"display: table-cell;\"></div><div style=\"display: table-cell;\">js_event_callbacks&nbsp;=&nbsp;{},</div></div><div class=\"1671\" style=\"display: none;\"><div style=\"display: table-cell;\"></div><div style=\"display: table-cell;\">js_property_callbacks&nbsp;=&nbsp;{},</div></div><div class=\"1671\" style=\"display: none;\"><div style=\"display: table-cell;\"></div><div style=\"display: table-cell;\">level&nbsp;=&nbsp;'glyph',</div></div><div class=\"1671\" style=\"display: none;\"><div style=\"display: table-cell;\"></div><div style=\"display: table-cell;\">muted&nbsp;=&nbsp;False,</div></div><div class=\"1671\" style=\"display: none;\"><div style=\"display: table-cell;\"></div><div style=\"display: table-cell;\">muted_glyph&nbsp;=&nbsp;Circle(id='1652', ...),</div></div><div class=\"1671\" style=\"display: none;\"><div style=\"display: table-cell;\"></div><div style=\"display: table-cell;\">name&nbsp;=&nbsp;None,</div></div><div class=\"1671\" style=\"display: none;\"><div style=\"display: table-cell;\"></div><div style=\"display: table-cell;\">nonselection_glyph&nbsp;=&nbsp;Circle(id='1650', ...),</div></div><div class=\"1671\" style=\"display: none;\"><div style=\"display: table-cell;\"></div><div style=\"display: table-cell;\">selection_glyph&nbsp;=&nbsp;Circle(id='1651', ...),</div></div><div class=\"1671\" style=\"display: none;\"><div style=\"display: table-cell;\"></div><div style=\"display: table-cell;\">subscribed_events&nbsp;=&nbsp;[],</div></div><div class=\"1671\" style=\"display: none;\"><div style=\"display: table-cell;\"></div><div style=\"display: table-cell;\">syncable&nbsp;=&nbsp;True,</div></div><div class=\"1671\" style=\"display: none;\"><div style=\"display: table-cell;\"></div><div style=\"display: table-cell;\">tags&nbsp;=&nbsp;[],</div></div><div class=\"1671\" style=\"display: none;\"><div style=\"display: table-cell;\"></div><div style=\"display: table-cell;\">view&nbsp;=&nbsp;CDSView(id='1654', ...),</div></div><div class=\"1671\" style=\"display: none;\"><div style=\"display: table-cell;\"></div><div style=\"display: table-cell;\">visible&nbsp;=&nbsp;True,</div></div><div class=\"1671\" style=\"display: none;\"><div style=\"display: table-cell;\"></div><div style=\"display: table-cell;\">x_range_name&nbsp;=&nbsp;'default',</div></div><div class=\"1671\" style=\"display: none;\"><div style=\"display: table-cell;\"></div><div style=\"display: table-cell;\">y_range_name&nbsp;=&nbsp;'default')</div></div></div>\n",
       "<script>\n",
       "(function() {\n",
       "  var expanded = false;\n",
       "  var ellipsis = document.getElementById(\"1672\");\n",
       "  ellipsis.addEventListener(\"click\", function() {\n",
       "    var rows = document.getElementsByClassName(\"1671\");\n",
       "    for (var i = 0; i < rows.length; i++) {\n",
       "      var el = rows[i];\n",
       "      el.style.display = expanded ? \"none\" : \"table-row\";\n",
       "    }\n",
       "    ellipsis.innerHTML = expanded ? \"&hellip;)\" : \"&lsaquo;&lsaquo;&lsaquo;\";\n",
       "    expanded = !expanded;\n",
       "  });\n",
       "})();\n",
       "</script>\n"
      ],
      "text/plain": [
       "GlyphRenderer(id='1653', ...)"
      ]
     },
     "execution_count": 39,
     "metadata": {},
     "output_type": "execute_result"
    }
   ],
   "source": [
    "# Creating plotting objects\n",
    "from bokeh.plotting import figure, output_file, show\n",
    "norms = figure(\n",
    "                  plot_height=300, plot_width=600,\n",
    "                  title='Convergence criterion',\n",
    "                  x_axis_label='Iterations', y_axis_label='Convergence Criterion',\n",
    "                  toolbar_location=None)\n",
    "norms.line(iterations00, norms00, legend_label='x0 = (0,0,0,0).T', line_color=\"blue\", line_width=2, muted_alpha=0)\n",
    "norms.line(iterations11, norms11, legend_label='x0 = (1,1,1,1).T', line_color=\"orange\", line_width=2, muted_alpha=0)\n",
    "norms.circle(x='iterations',\n",
    "           y='Norms00',\n",
    "           source = bokeh_xhistory00,\n",
    "           color='royalblue',\n",
    "             fill_color=\"white\",\n",
    "           selection_color='deepskyblue',\n",
    "           nonselection_color='lightgray',\n",
    "           legend_label='x0 = (0,0,0,0).T',\n",
    "            muted_alpha=0,\n",
    "           nonselection_alpha=0.3)\n",
    "norms.circle(x='iterations',\n",
    "           y='Norms11',\n",
    "           source = bokeh_xhistory11,\n",
    "           color='orange',\n",
    "             fill_color=\"white\",\n",
    "           selection_color='yellow',\n",
    "           nonselection_color='lightgray',\n",
    "           legend_label='x0 = (1,1,1,1).T',\n",
    "           muted_alpha = 0,\n",
    "           nonselection_alpha=0.3)\n",
    "\n",
    "\n",
    "\n",
    "errors_plot = figure(\n",
    "                  plot_height=300, plot_width=600,\n",
    "                  title='Relative Errors (L-infinity norm)',\n",
    "                  x_axis_label='Iterations', y_axis_label='Relative Error',\n",
    "                  toolbar_location=None)\n",
    "errors_plot.line(iterations00, relative_errors_00[1:], legend_label='x0 = (0,0,0,0).T', line_color=\"blue\", line_width=2, muted_alpha=0)\n",
    "errors_plot.line(iterations11, relative_errors_11[1:], legend_label='x0 = (1,1,1,1).T', line_color=\"orange\", line_width=2, muted_alpha=0)\n",
    "errors_plot.circle(x='iterations',\n",
    "           y='Relative Errors 00',\n",
    "           source = bokeh_errors00,\n",
    "           color='royalblue',\n",
    "           fill_color=\"white\",\n",
    "           selection_color='deepskyblue',\n",
    "           nonselection_color='lightgray',\n",
    "           legend_label='x0 = (0,0,0,0).T',\n",
    "            muted_alpha=0,\n",
    "           nonselection_alpha=0.3)\n",
    "errors_plot.circle(x='iterations',\n",
    "           y='Relative Errors 11',\n",
    "           source = bokeh_errors11,\n",
    "           color='orange',\n",
    "                   fill_color=\"white\",\n",
    "           selection_color='yellow',\n",
    "           nonselection_color='lightgray',\n",
    "           legend_label='x0 = (1,1,1,1).T',\n",
    "           muted_alpha = 0,\n",
    "           nonselection_alpha=0.3)\n"
   ]
  },
  {
   "cell_type": "code",
   "execution_count": 40,
   "id": "joint-midwest",
   "metadata": {},
   "outputs": [],
   "source": [
    "# To mute the legend when needed\n",
    "norms.legend.click_policy = 'hide'\n",
    "norms.legend.click_policy = 'mute'\n",
    "\n",
    "errors_plot.legend.click_policy = 'hide'\n",
    "errors_plot.legend.click_policy = 'mute'"
   ]
  },
  {
   "cell_type": "code",
   "execution_count": 41,
   "id": "essential-delight",
   "metadata": {},
   "outputs": [],
   "source": [
    "# For Hoovering\n",
    "from bokeh.models import HoverTool\n",
    "\n",
    "\n",
    "# Format the tooltip\n",
    "tooltips_norms = [\n",
    "            ('x0','@x0'),\n",
    "            ('x1','@x1'),\n",
    "            ('x2','@x2'),\n",
    "            ('x3','@x3'),\n",
    "           ]\n",
    "\n",
    "tooltips_errors = [\n",
    "            ('Error in x0','@Error_x0'),\n",
    "            ('Error in x1','@Error_x1'),\n",
    "            ('Error in x2','@Error_x2'),\n",
    "            ('Error in x3','@Error_x3'),\n",
    "           ]\n",
    "\n",
    "# Add the HoverTool to the figure\n",
    "norms.add_tools(HoverTool(tooltips=tooltips_norms))\n",
    "errors_plot.add_tools(HoverTool(tooltips=tooltips_errors))"
   ]
  },
  {
   "cell_type": "code",
   "execution_count": 42,
   "id": "ruled-bulletin",
   "metadata": {},
   "outputs": [],
   "source": [
    "from bokeh.io import output_file, output_notebook\n",
    "from bokeh.models.widgets import Tabs, Panel\n",
    "\n",
    "# Create two panels, one for each conference\n",
    "norms_panel = Panel(child=norms, title='Convergence Criterion')\n",
    "errors_panel = Panel(child=errors_plot, title='Errors')\n",
    "\n",
    "# Assign the panels to Tabs\n",
    "tabs = Tabs(tabs=[norms_panel, errors_panel])"
   ]
  },
  {
   "cell_type": "code",
   "execution_count": 98,
   "id": "tired-reverse",
   "metadata": {},
   "outputs": [
    {
     "data": {
      "text/html": [
       "\n",
       "    <div class=\"bk-root\">\n",
       "        <a href=\"https://bokeh.org\" target=\"_blank\" class=\"bk-logo bk-logo-small bk-logo-notebook\"></a>\n",
       "        <span id=\"2258\">Loading BokehJS ...</span>\n",
       "    </div>"
      ]
     },
     "metadata": {},
     "output_type": "display_data"
    },
    {
     "data": {
      "application/javascript": [
       "\n",
       "(function(root) {\n",
       "  function now() {\n",
       "    return new Date();\n",
       "  }\n",
       "\n",
       "  var force = true;\n",
       "\n",
       "  if (typeof root._bokeh_onload_callbacks === \"undefined\" || force === true) {\n",
       "    root._bokeh_onload_callbacks = [];\n",
       "    root._bokeh_is_loading = undefined;\n",
       "  }\n",
       "\n",
       "  var JS_MIME_TYPE = 'application/javascript';\n",
       "  var HTML_MIME_TYPE = 'text/html';\n",
       "  var EXEC_MIME_TYPE = 'application/vnd.bokehjs_exec.v0+json';\n",
       "  var CLASS_NAME = 'output_bokeh rendered_html';\n",
       "\n",
       "  /**\n",
       "   * Render data to the DOM node\n",
       "   */\n",
       "  function render(props, node) {\n",
       "    var script = document.createElement(\"script\");\n",
       "    node.appendChild(script);\n",
       "  }\n",
       "\n",
       "  /**\n",
       "   * Handle when an output is cleared or removed\n",
       "   */\n",
       "  function handleClearOutput(event, handle) {\n",
       "    var cell = handle.cell;\n",
       "\n",
       "    var id = cell.output_area._bokeh_element_id;\n",
       "    var server_id = cell.output_area._bokeh_server_id;\n",
       "    // Clean up Bokeh references\n",
       "    if (id != null && id in Bokeh.index) {\n",
       "      Bokeh.index[id].model.document.clear();\n",
       "      delete Bokeh.index[id];\n",
       "    }\n",
       "\n",
       "    if (server_id !== undefined) {\n",
       "      // Clean up Bokeh references\n",
       "      var cmd = \"from bokeh.io.state import curstate; print(curstate().uuid_to_server['\" + server_id + \"'].get_sessions()[0].document.roots[0]._id)\";\n",
       "      cell.notebook.kernel.execute(cmd, {\n",
       "        iopub: {\n",
       "          output: function(msg) {\n",
       "            var id = msg.content.text.trim();\n",
       "            if (id in Bokeh.index) {\n",
       "              Bokeh.index[id].model.document.clear();\n",
       "              delete Bokeh.index[id];\n",
       "            }\n",
       "          }\n",
       "        }\n",
       "      });\n",
       "      // Destroy server and session\n",
       "      var cmd = \"import bokeh.io.notebook as ion; ion.destroy_server('\" + server_id + \"')\";\n",
       "      cell.notebook.kernel.execute(cmd);\n",
       "    }\n",
       "  }\n",
       "\n",
       "  /**\n",
       "   * Handle when a new output is added\n",
       "   */\n",
       "  function handleAddOutput(event, handle) {\n",
       "    var output_area = handle.output_area;\n",
       "    var output = handle.output;\n",
       "\n",
       "    // limit handleAddOutput to display_data with EXEC_MIME_TYPE content only\n",
       "    if ((output.output_type != \"display_data\") || (!Object.prototype.hasOwnProperty.call(output.data, EXEC_MIME_TYPE))) {\n",
       "      return\n",
       "    }\n",
       "\n",
       "    var toinsert = output_area.element.find(\".\" + CLASS_NAME.split(' ')[0]);\n",
       "\n",
       "    if (output.metadata[EXEC_MIME_TYPE][\"id\"] !== undefined) {\n",
       "      toinsert[toinsert.length - 1].firstChild.textContent = output.data[JS_MIME_TYPE];\n",
       "      // store reference to embed id on output_area\n",
       "      output_area._bokeh_element_id = output.metadata[EXEC_MIME_TYPE][\"id\"];\n",
       "    }\n",
       "    if (output.metadata[EXEC_MIME_TYPE][\"server_id\"] !== undefined) {\n",
       "      var bk_div = document.createElement(\"div\");\n",
       "      bk_div.innerHTML = output.data[HTML_MIME_TYPE];\n",
       "      var script_attrs = bk_div.children[0].attributes;\n",
       "      for (var i = 0; i < script_attrs.length; i++) {\n",
       "        toinsert[toinsert.length - 1].firstChild.setAttribute(script_attrs[i].name, script_attrs[i].value);\n",
       "        toinsert[toinsert.length - 1].firstChild.textContent = bk_div.children[0].textContent\n",
       "      }\n",
       "      // store reference to server id on output_area\n",
       "      output_area._bokeh_server_id = output.metadata[EXEC_MIME_TYPE][\"server_id\"];\n",
       "    }\n",
       "  }\n",
       "\n",
       "  function register_renderer(events, OutputArea) {\n",
       "\n",
       "    function append_mime(data, metadata, element) {\n",
       "      // create a DOM node to render to\n",
       "      var toinsert = this.create_output_subarea(\n",
       "        metadata,\n",
       "        CLASS_NAME,\n",
       "        EXEC_MIME_TYPE\n",
       "      );\n",
       "      this.keyboard_manager.register_events(toinsert);\n",
       "      // Render to node\n",
       "      var props = {data: data, metadata: metadata[EXEC_MIME_TYPE]};\n",
       "      render(props, toinsert[toinsert.length - 1]);\n",
       "      element.append(toinsert);\n",
       "      return toinsert\n",
       "    }\n",
       "\n",
       "    /* Handle when an output is cleared or removed */\n",
       "    events.on('clear_output.CodeCell', handleClearOutput);\n",
       "    events.on('delete.Cell', handleClearOutput);\n",
       "\n",
       "    /* Handle when a new output is added */\n",
       "    events.on('output_added.OutputArea', handleAddOutput);\n",
       "\n",
       "    /**\n",
       "     * Register the mime type and append_mime function with output_area\n",
       "     */\n",
       "    OutputArea.prototype.register_mime_type(EXEC_MIME_TYPE, append_mime, {\n",
       "      /* Is output safe? */\n",
       "      safe: true,\n",
       "      /* Index of renderer in `output_area.display_order` */\n",
       "      index: 0\n",
       "    });\n",
       "  }\n",
       "\n",
       "  // register the mime type if in Jupyter Notebook environment and previously unregistered\n",
       "  if (root.Jupyter !== undefined) {\n",
       "    var events = require('base/js/events');\n",
       "    var OutputArea = require('notebook/js/outputarea').OutputArea;\n",
       "\n",
       "    if (OutputArea.prototype.mime_types().indexOf(EXEC_MIME_TYPE) == -1) {\n",
       "      register_renderer(events, OutputArea);\n",
       "    }\n",
       "  }\n",
       "\n",
       "  \n",
       "  if (typeof (root._bokeh_timeout) === \"undefined\" || force === true) {\n",
       "    root._bokeh_timeout = Date.now() + 5000;\n",
       "    root._bokeh_failed_load = false;\n",
       "  }\n",
       "\n",
       "  var NB_LOAD_WARNING = {'data': {'text/html':\n",
       "     \"<div style='background-color: #fdd'>\\n\"+\n",
       "     \"<p>\\n\"+\n",
       "     \"BokehJS does not appear to have successfully loaded. If loading BokehJS from CDN, this \\n\"+\n",
       "     \"may be due to a slow or bad network connection. Possible fixes:\\n\"+\n",
       "     \"</p>\\n\"+\n",
       "     \"<ul>\\n\"+\n",
       "     \"<li>re-rerun `output_notebook()` to attempt to load from CDN again, or</li>\\n\"+\n",
       "     \"<li>use INLINE resources instead, as so:</li>\\n\"+\n",
       "     \"</ul>\\n\"+\n",
       "     \"<code>\\n\"+\n",
       "     \"from bokeh.resources import INLINE\\n\"+\n",
       "     \"output_notebook(resources=INLINE)\\n\"+\n",
       "     \"</code>\\n\"+\n",
       "     \"</div>\"}};\n",
       "\n",
       "  function display_loaded() {\n",
       "    var el = document.getElementById(\"2258\");\n",
       "    if (el != null) {\n",
       "      el.textContent = \"BokehJS is loading...\";\n",
       "    }\n",
       "    if (root.Bokeh !== undefined) {\n",
       "      if (el != null) {\n",
       "        el.textContent = \"BokehJS \" + root.Bokeh.version + \" successfully loaded.\";\n",
       "      }\n",
       "    } else if (Date.now() < root._bokeh_timeout) {\n",
       "      setTimeout(display_loaded, 100)\n",
       "    }\n",
       "  }\n",
       "\n",
       "\n",
       "  function run_callbacks() {\n",
       "    try {\n",
       "      root._bokeh_onload_callbacks.forEach(function(callback) {\n",
       "        if (callback != null)\n",
       "          callback();\n",
       "      });\n",
       "    } finally {\n",
       "      delete root._bokeh_onload_callbacks\n",
       "    }\n",
       "    console.debug(\"Bokeh: all callbacks have finished\");\n",
       "  }\n",
       "\n",
       "  function load_libs(css_urls, js_urls, callback) {\n",
       "    if (css_urls == null) css_urls = [];\n",
       "    if (js_urls == null) js_urls = [];\n",
       "\n",
       "    root._bokeh_onload_callbacks.push(callback);\n",
       "    if (root._bokeh_is_loading > 0) {\n",
       "      console.debug(\"Bokeh: BokehJS is being loaded, scheduling callback at\", now());\n",
       "      return null;\n",
       "    }\n",
       "    if (js_urls == null || js_urls.length === 0) {\n",
       "      run_callbacks();\n",
       "      return null;\n",
       "    }\n",
       "    console.debug(\"Bokeh: BokehJS not loaded, scheduling load and callback at\", now());\n",
       "    root._bokeh_is_loading = css_urls.length + js_urls.length;\n",
       "\n",
       "    function on_load() {\n",
       "      root._bokeh_is_loading--;\n",
       "      if (root._bokeh_is_loading === 0) {\n",
       "        console.debug(\"Bokeh: all BokehJS libraries/stylesheets loaded\");\n",
       "        run_callbacks()\n",
       "      }\n",
       "    }\n",
       "\n",
       "    function on_error(url) {\n",
       "      console.error(\"failed to load \" + url);\n",
       "    }\n",
       "\n",
       "    for (let i = 0; i < css_urls.length; i++) {\n",
       "      const url = css_urls[i];\n",
       "      const element = document.createElement(\"link\");\n",
       "      element.onload = on_load;\n",
       "      element.onerror = on_error.bind(null, url);\n",
       "      element.rel = \"stylesheet\";\n",
       "      element.type = \"text/css\";\n",
       "      element.href = url;\n",
       "      console.debug(\"Bokeh: injecting link tag for BokehJS stylesheet: \", url);\n",
       "      document.body.appendChild(element);\n",
       "    }\n",
       "\n",
       "    const hashes = {\"https://cdn.bokeh.org/bokeh/release/bokeh-2.3.0.min.js\": \"HjagQp6T0/7bxYTAXbLotF1MLAGWmhkY5siA1Gc/pcEgvgRPtMsRn0gQtMwGKiw1\", \"https://cdn.bokeh.org/bokeh/release/bokeh-widgets-2.3.0.min.js\": \"ZEPPTjL+mdyqgIq+/pl9KTwzji8Kow2NnI3zWY8+sFinWP/SYJ80BnfeJsa45iYj\", \"https://cdn.bokeh.org/bokeh/release/bokeh-tables-2.3.0.min.js\": \"exLqv2ACDRIaV7ZK1iL8aGzGYQvKVuT3U2CT7FsQREBxRah6JrkVCoFy0koY1YqV\"};\n",
       "\n",
       "    for (let i = 0; i < js_urls.length; i++) {\n",
       "      const url = js_urls[i];\n",
       "      const element = document.createElement('script');\n",
       "      element.onload = on_load;\n",
       "      element.onerror = on_error.bind(null, url);\n",
       "      element.async = false;\n",
       "      element.src = url;\n",
       "      if (url in hashes) {\n",
       "        element.crossOrigin = \"anonymous\";\n",
       "        element.integrity = \"sha384-\" + hashes[url];\n",
       "      }\n",
       "      console.debug(\"Bokeh: injecting script tag for BokehJS library: \", url);\n",
       "      document.head.appendChild(element);\n",
       "    }\n",
       "  };\n",
       "\n",
       "  function inject_raw_css(css) {\n",
       "    const element = document.createElement(\"style\");\n",
       "    element.appendChild(document.createTextNode(css));\n",
       "    document.body.appendChild(element);\n",
       "  }\n",
       "\n",
       "  \n",
       "  var js_urls = [\"https://cdn.bokeh.org/bokeh/release/bokeh-2.3.0.min.js\", \"https://cdn.bokeh.org/bokeh/release/bokeh-widgets-2.3.0.min.js\", \"https://cdn.bokeh.org/bokeh/release/bokeh-tables-2.3.0.min.js\"];\n",
       "  var css_urls = [];\n",
       "  \n",
       "\n",
       "  var inline_js = [\n",
       "    function(Bokeh) {\n",
       "      Bokeh.set_log_level(\"info\");\n",
       "    },\n",
       "    function(Bokeh) {\n",
       "    \n",
       "    \n",
       "    }\n",
       "  ];\n",
       "\n",
       "  function run_inline_js() {\n",
       "    \n",
       "    if (root.Bokeh !== undefined || force === true) {\n",
       "      \n",
       "    for (var i = 0; i < inline_js.length; i++) {\n",
       "      inline_js[i].call(root, root.Bokeh);\n",
       "    }\n",
       "    if (force === true) {\n",
       "        display_loaded();\n",
       "      }} else if (Date.now() < root._bokeh_timeout) {\n",
       "      setTimeout(run_inline_js, 100);\n",
       "    } else if (!root._bokeh_failed_load) {\n",
       "      console.log(\"Bokeh: BokehJS failed to load within specified timeout.\");\n",
       "      root._bokeh_failed_load = true;\n",
       "    } else if (force !== true) {\n",
       "      var cell = $(document.getElementById(\"2258\")).parents('.cell').data().cell;\n",
       "      cell.output_area.append_execute_result(NB_LOAD_WARNING)\n",
       "    }\n",
       "\n",
       "  }\n",
       "\n",
       "  if (root._bokeh_is_loading === 0) {\n",
       "    console.debug(\"Bokeh: BokehJS loaded, going straight to plotting\");\n",
       "    run_inline_js();\n",
       "  } else {\n",
       "    load_libs(css_urls, js_urls, function() {\n",
       "      console.debug(\"Bokeh: BokehJS plotting callback run at\", now());\n",
       "      run_inline_js();\n",
       "    });\n",
       "  }\n",
       "}(window));"
      ],
      "application/vnd.bokehjs_load.v0+json": "\n(function(root) {\n  function now() {\n    return new Date();\n  }\n\n  var force = true;\n\n  if (typeof root._bokeh_onload_callbacks === \"undefined\" || force === true) {\n    root._bokeh_onload_callbacks = [];\n    root._bokeh_is_loading = undefined;\n  }\n\n  \n\n  \n  if (typeof (root._bokeh_timeout) === \"undefined\" || force === true) {\n    root._bokeh_timeout = Date.now() + 5000;\n    root._bokeh_failed_load = false;\n  }\n\n  var NB_LOAD_WARNING = {'data': {'text/html':\n     \"<div style='background-color: #fdd'>\\n\"+\n     \"<p>\\n\"+\n     \"BokehJS does not appear to have successfully loaded. If loading BokehJS from CDN, this \\n\"+\n     \"may be due to a slow or bad network connection. Possible fixes:\\n\"+\n     \"</p>\\n\"+\n     \"<ul>\\n\"+\n     \"<li>re-rerun `output_notebook()` to attempt to load from CDN again, or</li>\\n\"+\n     \"<li>use INLINE resources instead, as so:</li>\\n\"+\n     \"</ul>\\n\"+\n     \"<code>\\n\"+\n     \"from bokeh.resources import INLINE\\n\"+\n     \"output_notebook(resources=INLINE)\\n\"+\n     \"</code>\\n\"+\n     \"</div>\"}};\n\n  function display_loaded() {\n    var el = document.getElementById(\"2258\");\n    if (el != null) {\n      el.textContent = \"BokehJS is loading...\";\n    }\n    if (root.Bokeh !== undefined) {\n      if (el != null) {\n        el.textContent = \"BokehJS \" + root.Bokeh.version + \" successfully loaded.\";\n      }\n    } else if (Date.now() < root._bokeh_timeout) {\n      setTimeout(display_loaded, 100)\n    }\n  }\n\n\n  function run_callbacks() {\n    try {\n      root._bokeh_onload_callbacks.forEach(function(callback) {\n        if (callback != null)\n          callback();\n      });\n    } finally {\n      delete root._bokeh_onload_callbacks\n    }\n    console.debug(\"Bokeh: all callbacks have finished\");\n  }\n\n  function load_libs(css_urls, js_urls, callback) {\n    if (css_urls == null) css_urls = [];\n    if (js_urls == null) js_urls = [];\n\n    root._bokeh_onload_callbacks.push(callback);\n    if (root._bokeh_is_loading > 0) {\n      console.debug(\"Bokeh: BokehJS is being loaded, scheduling callback at\", now());\n      return null;\n    }\n    if (js_urls == null || js_urls.length === 0) {\n      run_callbacks();\n      return null;\n    }\n    console.debug(\"Bokeh: BokehJS not loaded, scheduling load and callback at\", now());\n    root._bokeh_is_loading = css_urls.length + js_urls.length;\n\n    function on_load() {\n      root._bokeh_is_loading--;\n      if (root._bokeh_is_loading === 0) {\n        console.debug(\"Bokeh: all BokehJS libraries/stylesheets loaded\");\n        run_callbacks()\n      }\n    }\n\n    function on_error(url) {\n      console.error(\"failed to load \" + url);\n    }\n\n    for (let i = 0; i < css_urls.length; i++) {\n      const url = css_urls[i];\n      const element = document.createElement(\"link\");\n      element.onload = on_load;\n      element.onerror = on_error.bind(null, url);\n      element.rel = \"stylesheet\";\n      element.type = \"text/css\";\n      element.href = url;\n      console.debug(\"Bokeh: injecting link tag for BokehJS stylesheet: \", url);\n      document.body.appendChild(element);\n    }\n\n    const hashes = {\"https://cdn.bokeh.org/bokeh/release/bokeh-2.3.0.min.js\": \"HjagQp6T0/7bxYTAXbLotF1MLAGWmhkY5siA1Gc/pcEgvgRPtMsRn0gQtMwGKiw1\", \"https://cdn.bokeh.org/bokeh/release/bokeh-widgets-2.3.0.min.js\": \"ZEPPTjL+mdyqgIq+/pl9KTwzji8Kow2NnI3zWY8+sFinWP/SYJ80BnfeJsa45iYj\", \"https://cdn.bokeh.org/bokeh/release/bokeh-tables-2.3.0.min.js\": \"exLqv2ACDRIaV7ZK1iL8aGzGYQvKVuT3U2CT7FsQREBxRah6JrkVCoFy0koY1YqV\"};\n\n    for (let i = 0; i < js_urls.length; i++) {\n      const url = js_urls[i];\n      const element = document.createElement('script');\n      element.onload = on_load;\n      element.onerror = on_error.bind(null, url);\n      element.async = false;\n      element.src = url;\n      if (url in hashes) {\n        element.crossOrigin = \"anonymous\";\n        element.integrity = \"sha384-\" + hashes[url];\n      }\n      console.debug(\"Bokeh: injecting script tag for BokehJS library: \", url);\n      document.head.appendChild(element);\n    }\n  };\n\n  function inject_raw_css(css) {\n    const element = document.createElement(\"style\");\n    element.appendChild(document.createTextNode(css));\n    document.body.appendChild(element);\n  }\n\n  \n  var js_urls = [\"https://cdn.bokeh.org/bokeh/release/bokeh-2.3.0.min.js\", \"https://cdn.bokeh.org/bokeh/release/bokeh-widgets-2.3.0.min.js\", \"https://cdn.bokeh.org/bokeh/release/bokeh-tables-2.3.0.min.js\"];\n  var css_urls = [];\n  \n\n  var inline_js = [\n    function(Bokeh) {\n      Bokeh.set_log_level(\"info\");\n    },\n    function(Bokeh) {\n    \n    \n    }\n  ];\n\n  function run_inline_js() {\n    \n    if (root.Bokeh !== undefined || force === true) {\n      \n    for (var i = 0; i < inline_js.length; i++) {\n      inline_js[i].call(root, root.Bokeh);\n    }\n    if (force === true) {\n        display_loaded();\n      }} else if (Date.now() < root._bokeh_timeout) {\n      setTimeout(run_inline_js, 100);\n    } else if (!root._bokeh_failed_load) {\n      console.log(\"Bokeh: BokehJS failed to load within specified timeout.\");\n      root._bokeh_failed_load = true;\n    } else if (force !== true) {\n      var cell = $(document.getElementById(\"2258\")).parents('.cell').data().cell;\n      cell.output_area.append_execute_result(NB_LOAD_WARNING)\n    }\n\n  }\n\n  if (root._bokeh_is_loading === 0) {\n    console.debug(\"Bokeh: BokehJS loaded, going straight to plotting\");\n    run_inline_js();\n  } else {\n    load_libs(css_urls, js_urls, function() {\n      console.debug(\"Bokeh: BokehJS plotting callback run at\", now());\n      run_inline_js();\n    });\n  }\n}(window));"
     },
     "metadata": {},
     "output_type": "display_data"
    },
    {
     "data": {
      "text/html": [
       "\n",
       "\n",
       "\n",
       "\n",
       "\n",
       "\n",
       "  <div class=\"bk-root\" id=\"797c4984-5554-4569-896c-ad248faa760a\" data-root-id=\"1679\"></div>\n"
      ]
     },
     "metadata": {},
     "output_type": "display_data"
    },
    {
     "data": {
      "application/javascript": [
       "(function(root) {\n",
       "  function embed_document(root) {\n",
       "    \n",
       "  var docs_json = {\"c1bc451c-4e6f-4663-882d-597599f79da1\":{\"defs\":[{\"extends\":null,\"module\":null,\"name\":\"DataModel\",\"overrides\":[],\"properties\":[]}],\"roots\":{\"references\":[{\"attributes\":{\"tabs\":[{\"id\":\"1677\"},{\"id\":\"1678\"}]},\"id\":\"1679\",\"type\":\"Tabs\"},{\"attributes\":{},\"id\":\"1564\",\"type\":\"LinearScale\"},{\"attributes\":{},\"id\":\"1566\",\"type\":\"LinearScale\"},{\"attributes\":{\"line_color\":\"blue\",\"line_width\":2,\"x\":{\"field\":\"x\"},\"y\":{\"field\":\"y\"}},\"id\":\"1591\",\"type\":\"Line\"},{\"attributes\":{\"axis_label\":\"Iterations\",\"formatter\":{\"id\":\"1602\"},\"major_label_policy\":{\"id\":\"1600\"},\"ticker\":{\"id\":\"1569\"}},\"id\":\"1568\",\"type\":\"LinearAxis\"},{\"attributes\":{},\"id\":\"1569\",\"type\":\"BasicTicker\"},{\"attributes\":{\"axis\":{\"id\":\"1568\"},\"ticker\":null},\"id\":\"1571\",\"type\":\"Grid\"},{\"attributes\":{},\"id\":\"1577\",\"type\":\"WheelZoomTool\"},{\"attributes\":{},\"id\":\"1209\",\"type\":\"UnionRenderers\"},{\"attributes\":{\"axis_label\":\"Relative Error\",\"formatter\":{\"id\":\"1599\"},\"major_label_policy\":{\"id\":\"1597\"},\"ticker\":{\"id\":\"1573\"}},\"id\":\"1572\",\"type\":\"LinearAxis\"},{\"attributes\":{},\"id\":\"1483\",\"type\":\"AllLabels\"},{\"attributes\":{\"axis\":{\"id\":\"1572\"},\"dimension\":1,\"ticker\":null},\"id\":\"1575\",\"type\":\"Grid\"},{\"attributes\":{},\"id\":\"1485\",\"type\":\"BasicTickFormatter\"},{\"attributes\":{},\"id\":\"1573\",\"type\":\"BasicTicker\"},{\"attributes\":{},\"id\":\"1210\",\"type\":\"Selection\"},{\"attributes\":{},\"id\":\"1581\",\"type\":\"HelpTool\"},{\"attributes\":{},\"id\":\"1486\",\"type\":\"AllLabels\"},{\"attributes\":{},\"id\":\"1576\",\"type\":\"PanTool\"},{\"attributes\":{},\"id\":\"1597\",\"type\":\"AllLabels\"},{\"attributes\":{},\"id\":\"1488\",\"type\":\"BasicTickFormatter\"},{\"attributes\":{\"overlay\":{\"id\":\"1582\"}},\"id\":\"1578\",\"type\":\"BoxZoomTool\"},{\"attributes\":{},\"id\":\"1118\",\"type\":\"UnionRenderers\"},{\"attributes\":{},\"id\":\"1579\",\"type\":\"SaveTool\"},{\"attributes\":{},\"id\":\"1599\",\"type\":\"BasicTickFormatter\"},{\"attributes\":{},\"id\":\"1580\",\"type\":\"ResetTool\"},{\"attributes\":{},\"id\":\"1604\",\"type\":\"UnionRenderers\"},{\"attributes\":{},\"id\":\"1600\",\"type\":\"AllLabels\"},{\"attributes\":{},\"id\":\"1490\",\"type\":\"UnionRenderers\"},{\"attributes\":{},\"id\":\"1119\",\"type\":\"Selection\"},{\"attributes\":{\"data\":{\"Error_x0\":{\"__ndarray__\":\"mpmZmZmZ2b9AUhmI++eePwBR9JHq+Ho/AFjHhGk2TD8AQFpft+0XPwAAbtw0iuE+\",\"dtype\":\"float64\",\"order\":\"little\",\"shape\":[6]},\"Error_x1\":{\"__ndarray__\":\"+JQgTwny1D9AEvEpiumiPwDw8CppH20/AIDd0NCLMz8AAE4CBGH2PgAAwN5wr7M+\",\"dtype\":\"float64\",\"order\":\"little\",\"shape\":[6]},\"Error_x2\":{\"__ndarray__\":\"ABoMocEQij+ApQAZNpuNvwC0gFBPtGS/APDBzjwjNL8AAPYSgVQAvwAAsKn/Bse+\",\"dtype\":\"float64\",\"order\":\"little\",\"shape\":[6]},\"Error_x3\":{\"__ndarray__\":\"CK8s8MoCv78g2AQB2wiQvwDgVLSiBFu/AKBW0KuxI78AADWLA/PovgAA4HsUR6q+\",\"dtype\":\"float64\",\"order\":\"little\",\"shape\":[6]},\"Relative Errors 00\":{\"__ndarray__\":\"mpmZmZmZyT9AEvEpiumSPwBR9JHq+Go/AFjHhGk2PD8AQFpft+0HPwAAbtw0itE+\",\"dtype\":\"float64\",\"order\":\"little\",\"shape\":[6]},\"index\":[0,1,2,3,4,5],\"iterations\":[1,2,3,4,5,6]},\"selected\":{\"id\":\"1210\"},\"selection_policy\":{\"id\":\"1209\"}},\"id\":\"1003\",\"type\":\"ColumnDataSource\"},{\"attributes\":{},\"id\":\"1605\",\"type\":\"Selection\"},{\"attributes\":{},\"id\":\"1491\",\"type\":\"Selection\"},{\"attributes\":{},\"id\":\"1602\",\"type\":\"BasicTickFormatter\"},{\"attributes\":{\"bottom_units\":\"screen\",\"fill_alpha\":0.5,\"fill_color\":\"lightgrey\",\"left_units\":\"screen\",\"level\":\"overlay\",\"line_alpha\":1.0,\"line_color\":\"black\",\"line_dash\":[4,4],\"line_width\":2,\"right_units\":\"screen\",\"syncable\":false,\"top_units\":\"screen\"},\"id\":\"1582\",\"type\":\"BoxAnnotation\"},{\"attributes\":{},\"id\":\"1459\",\"type\":\"BasicTicker\"},{\"attributes\":{},\"id\":\"1232\",\"type\":\"UnionRenderers\"},{\"attributes\":{},\"id\":\"1233\",\"type\":\"Selection\"},{\"attributes\":{\"fill_color\":{\"value\":\"white\"},\"line_color\":{\"value\":\"royalblue\"},\"x\":{\"field\":\"iterations\"},\"y\":{\"field\":\"Relative Errors 00\"}},\"id\":\"1628\",\"type\":\"Circle\"},{\"attributes\":{\"active_multi\":null,\"tools\":[{\"id\":\"1576\"},{\"id\":\"1577\"},{\"id\":\"1578\"},{\"id\":\"1579\"},{\"id\":\"1580\"},{\"id\":\"1581\"},{\"id\":\"1675\"}]},\"id\":\"1583\",\"type\":\"Toolbar\"},{\"attributes\":{\"line_color\":\"orange\",\"line_width\":2,\"x\":{\"field\":\"x\"},\"y\":{\"field\":\"y\"}},\"id\":\"1609\",\"type\":\"Line\"},{\"attributes\":{\"line_alpha\":0.1,\"line_color\":\"blue\",\"line_width\":2,\"x\":{\"field\":\"x\"},\"y\":{\"field\":\"y\"}},\"id\":\"1592\",\"type\":\"Line\"},{\"attributes\":{\"line_alpha\":0,\"line_color\":\"orange\",\"line_width\":2,\"x\":{\"field\":\"x\"},\"y\":{\"field\":\"y\"}},\"id\":\"1611\",\"type\":\"Line\"},{\"attributes\":{},\"id\":\"1463\",\"type\":\"WheelZoomTool\"},{\"attributes\":{\"line_alpha\":0,\"line_color\":\"blue\",\"line_width\":2,\"x\":{\"field\":\"x\"},\"y\":{\"field\":\"y\"}},\"id\":\"1593\",\"type\":\"Line\"},{\"attributes\":{\"axis\":{\"id\":\"1458\"},\"dimension\":1,\"ticker\":null},\"id\":\"1461\",\"type\":\"Grid\"},{\"attributes\":{\"data\":{\"x\":[1,2,3,4,5,6],\"y\":[0.25,0.009788223140495766,0.0010916486664163116,0.0001994625751315926,2.5624676529112378e-05,2.6886567866535316e-06]},\"selected\":{\"id\":\"1625\"},\"selection_policy\":{\"id\":\"1624\"}},\"id\":\"1608\",\"type\":\"ColumnDataSource\"},{\"attributes\":{\"source\":{\"id\":\"1590\"}},\"id\":\"1595\",\"type\":\"CDSView\"},{\"attributes\":{\"source\":{\"id\":\"1608\"}},\"id\":\"1613\",\"type\":\"CDSView\"},{\"attributes\":{\"line_alpha\":0.1,\"line_color\":\"orange\",\"line_width\":2,\"x\":{\"field\":\"x\"},\"y\":{\"field\":\"y\"}},\"id\":\"1610\",\"type\":\"Line\"},{\"attributes\":{\"fill_color\":{\"value\":\"white\"},\"line_color\":{\"value\":\"orange\"},\"x\":{\"field\":\"iterations\"},\"y\":{\"field\":\"Relative Errors 11\"}},\"id\":\"1649\",\"type\":\"Circle\"},{\"attributes\":{\"fill_color\":{\"value\":\"white\"},\"line_color\":{\"value\":\"royalblue\"},\"x\":{\"field\":\"iterations\"},\"y\":{\"field\":\"Norms00\"}},\"id\":\"1514\",\"type\":\"Circle\"},{\"attributes\":{\"click_policy\":\"mute\",\"items\":[{\"id\":\"1607\"},{\"id\":\"1626\"}]},\"id\":\"1606\",\"type\":\"Legend\"},{\"attributes\":{\"label\":{\"value\":\"x0 = (0,0,0,0).T\"},\"renderers\":[{\"id\":\"1594\"},{\"id\":\"1632\"}]},\"id\":\"1607\",\"type\":\"LegendItem\"},{\"attributes\":{\"label\":{\"value\":\"x0 = (1,1,1,1).T\"},\"renderers\":[{\"id\":\"1612\"},{\"id\":\"1653\"}]},\"id\":\"1626\",\"type\":\"LegendItem\"},{\"attributes\":{\"line_alpha\":0,\"line_color\":\"orange\",\"line_width\":2,\"x\":{\"field\":\"x\"},\"y\":{\"field\":\"y\"}},\"id\":\"1497\",\"type\":\"Line\"},{\"attributes\":{\"line_color\":\"orange\",\"line_width\":2,\"x\":{\"field\":\"x\"},\"y\":{\"field\":\"y\"}},\"id\":\"1495\",\"type\":\"Line\"},{\"attributes\":{\"source\":{\"id\":\"1494\"}},\"id\":\"1499\",\"type\":\"CDSView\"},{\"attributes\":{\"line_alpha\":0.1,\"line_color\":\"orange\",\"line_width\":2,\"x\":{\"field\":\"x\"},\"y\":{\"field\":\"y\"}},\"id\":\"1496\",\"type\":\"Line\"},{\"attributes\":{\"fill_color\":{\"value\":\"white\"},\"line_color\":{\"value\":\"orange\"},\"x\":{\"field\":\"iterations\"},\"y\":{\"field\":\"Norms11\"}},\"id\":\"1535\",\"type\":\"Circle\"},{\"attributes\":{},\"id\":\"1624\",\"type\":\"UnionRenderers\"},{\"attributes\":{\"data\":{\"Norms11\":{\"__ndarray__\":\"Lrrooosu/j/dIqAHq2nNPxOvUxBQo4E/uBkaCHQpUD/m1Da1bMgmP95mVqHJDPg+\",\"dtype\":\"float64\",\"order\":\"little\",\"shape\":[6]},\"index\":[0,1,2,3,4,5],\"iterations\":[1,2,3,4,5,6],\"x0\":{\"__ndarray__\":\"AAAAAAAA4D+2b1j7hrXvP8FbR2jzB/A/OpWnTaIB8D+ouSS9NQDwP80sdqMFAPA/\",\"dtype\":\"float64\",\"order\":\"little\",\"shape\":[6]},\"x1\":{\"__ndarray__\":\"F1100UUXAUDcYySyFygAQLwiNa14BABArGQiL20AAEA52+MTCQAAQAzRQ6QAAABA\",\"dtype\":\"float64\",\"order\":\"little\",\"shape\":[6]},\"x2\":{\"__ndarray__\":\"XXTRRRdd7L/SzYCuUv/vv2LHENeyA/C/nDuVgp8A8L/IBGsdEwDwv6d/TOsBAPC/\",\"dtype\":\"float64\",\"order\":\"little\",\"shape\":[6]},\"x3\":{\"__ndarray__\":\"0kUXXXTR7j98UPke8sPvPw4abEZe+O8/FxqnWDT/7z/4dc+a7f/vP4Qmx47+/+8/\",\"dtype\":\"float64\",\"order\":\"little\",\"shape\":[6]}},\"selected\":{\"id\":\"1119\"},\"selection_policy\":{\"id\":\"1118\"}},\"id\":\"1002\",\"type\":\"ColumnDataSource\"},{\"attributes\":{},\"id\":\"1625\",\"type\":\"Selection\"},{\"attributes\":{\"label\":{\"value\":\"x0 = (1,1,1,1).T\"},\"renderers\":[{\"id\":\"1498\"},{\"id\":\"1539\"}]},\"id\":\"1512\",\"type\":\"LegendItem\"},{\"attributes\":{},\"id\":\"1446\",\"type\":\"DataRange1d\"},{\"attributes\":{},\"id\":\"1452\",\"type\":\"LinearScale\"},{\"attributes\":{},\"id\":\"1450\",\"type\":\"LinearScale\"},{\"attributes\":{},\"id\":\"1448\",\"type\":\"DataRange1d\"},{\"attributes\":{},\"id\":\"1466\",\"type\":\"ResetTool\"},{\"attributes\":{},\"id\":\"1510\",\"type\":\"UnionRenderers\"},{\"attributes\":{\"axis_label\":\"Iterations\",\"formatter\":{\"id\":\"1488\"},\"major_label_policy\":{\"id\":\"1486\"},\"ticker\":{\"id\":\"1455\"}},\"id\":\"1454\",\"type\":\"LinearAxis\"},{\"attributes\":{},\"id\":\"1455\",\"type\":\"BasicTicker\"},{\"attributes\":{\"axis\":{\"id\":\"1454\"},\"ticker\":null},\"id\":\"1457\",\"type\":\"Grid\"},{\"attributes\":{},\"id\":\"1511\",\"type\":\"Selection\"},{\"attributes\":{\"axis_label\":\"Convergence Criterion\",\"formatter\":{\"id\":\"1485\"},\"major_label_policy\":{\"id\":\"1483\"},\"ticker\":{\"id\":\"1459\"}},\"id\":\"1458\",\"type\":\"LinearAxis\"},{\"attributes\":{\"data\":{\"x\":[1,2,3,4,5,6],\"y\":{\"__ndarray__\":\"AAAAAAAA8H8qXI/C9ajHP1A867s6yJA/HgLbAndnZz+7M3YkvDc5P+GrY5BhvAU/\",\"dtype\":\"float64\",\"order\":\"little\",\"shape\":[6]}},\"selected\":{\"id\":\"1491\"},\"selection_policy\":{\"id\":\"1490\"}},\"id\":\"1476\",\"type\":\"ColumnDataSource\"},{\"attributes\":{},\"id\":\"1467\",\"type\":\"HelpTool\"},{\"attributes\":{\"source\":{\"id\":\"1001\"}},\"id\":\"1519\",\"type\":\"CDSView\"},{\"attributes\":{\"fill_color\":{\"value\":\"deepskyblue\"},\"line_color\":{\"value\":\"deepskyblue\"},\"x\":{\"field\":\"iterations\"},\"y\":{\"field\":\"Relative Errors 00\"}},\"id\":\"1630\",\"type\":\"Circle\"},{\"attributes\":{\"fill_alpha\":{\"value\":0},\"fill_color\":{\"value\":\"white\"},\"line_alpha\":{\"value\":0},\"line_color\":{\"value\":\"royalblue\"},\"x\":{\"field\":\"iterations\"},\"y\":{\"field\":\"Relative Errors 00\"}},\"id\":\"1631\",\"type\":\"Circle\"},{\"attributes\":{\"fill_alpha\":{\"value\":0.3},\"fill_color\":{\"value\":\"lightgray\"},\"line_alpha\":{\"value\":0.3},\"line_color\":{\"value\":\"lightgray\"},\"x\":{\"field\":\"iterations\"},\"y\":{\"field\":\"Norms00\"}},\"id\":\"1515\",\"type\":\"Circle\"},{\"attributes\":{\"fill_alpha\":{\"value\":0.3},\"fill_color\":{\"value\":\"lightgray\"},\"line_alpha\":{\"value\":0.3},\"line_color\":{\"value\":\"lightgray\"},\"x\":{\"field\":\"iterations\"},\"y\":{\"field\":\"Relative Errors 00\"}},\"id\":\"1629\",\"type\":\"Circle\"},{\"attributes\":{\"fill_color\":{\"value\":\"deepskyblue\"},\"line_color\":{\"value\":\"deepskyblue\"},\"x\":{\"field\":\"iterations\"},\"y\":{\"field\":\"Norms00\"}},\"id\":\"1516\",\"type\":\"Circle\"},{\"attributes\":{\"data_source\":{\"id\":\"1001\"},\"glyph\":{\"id\":\"1514\"},\"hover_glyph\":null,\"muted_glyph\":{\"id\":\"1517\"},\"nonselection_glyph\":{\"id\":\"1515\"},\"selection_glyph\":{\"id\":\"1516\"},\"view\":{\"id\":\"1519\"}},\"id\":\"1518\",\"type\":\"GlyphRenderer\"},{\"attributes\":{\"data_source\":{\"id\":\"1003\"},\"glyph\":{\"id\":\"1628\"},\"hover_glyph\":null,\"muted_glyph\":{\"id\":\"1631\"},\"nonselection_glyph\":{\"id\":\"1629\"},\"selection_glyph\":{\"id\":\"1630\"},\"view\":{\"id\":\"1633\"}},\"id\":\"1632\",\"type\":\"GlyphRenderer\"},{\"attributes\":{\"text\":\"Convergence criterion\"},\"id\":\"1444\",\"type\":\"Title\"},{\"attributes\":{\"source\":{\"id\":\"1003\"}},\"id\":\"1633\",\"type\":\"CDSView\"},{\"attributes\":{\"data\":{\"Norms00\":{\"__ndarray__\":\"AAAAAAAA8H8qXI/C9ajHP1A867s6yJA/HgLbAndnZz+7M3YkvDc5P+GrY5BhvAU/\",\"dtype\":\"float64\",\"order\":\"little\",\"shape\":[6]},\"index\":[0,1,2,3,4,5],\"iterations\":[1,2,3,4,5,6],\"x0\":{\"__ndarray__\":\"MzMzMzMz4z9JZSDun3vwP1H0ker4GvA/65gwzYYD8D9pfd22XwDwPzduGsUIAPA/\",\"dtype\":\"float64\",\"order\":\"little\",\"shape\":[6]},\"x1\":{\"__ndarray__\":\"nxLkKUGeAkBJxKcopksAQDy8StpHBwBA7IaGXpwAAEAnAYIwCwAAQPaGe50AAABA\",\"dtype\":\"float64\",\"order\":\"little\",\"shape\":[6]},\"x2\":{\"__ndarray__\":\"mM97+byX779LATJsNjvwv1pAqCdaCvC/H+zMM0IB8L/sJQKpIADwvzb13+ACAPC/\",\"dtype\":\"float64\",\"order\":\"little\",\"shape\":[6]},\"x3\":{\"__ndarray__\":\"H2r6oaYf7D8/2fcnuX/vP5DVpa598u8/lvpC5cT+7z/LdPwM5//vP0K4jlv+/+8/\",\"dtype\":\"float64\",\"order\":\"little\",\"shape\":[6]}},\"selected\":{\"id\":\"1096\"},\"selection_policy\":{\"id\":\"1095\"}},\"id\":\"1001\",\"type\":\"ColumnDataSource\"},{\"attributes\":{\"fill_color\":{\"value\":\"yellow\"},\"line_color\":{\"value\":\"yellow\"},\"x\":{\"field\":\"iterations\"},\"y\":{\"field\":\"Relative Errors 11\"}},\"id\":\"1651\",\"type\":\"Circle\"},{\"attributes\":{\"fill_alpha\":{\"value\":0},\"fill_color\":{\"value\":\"white\"},\"line_alpha\":{\"value\":0},\"line_color\":{\"value\":\"royalblue\"},\"x\":{\"field\":\"iterations\"},\"y\":{\"field\":\"Norms00\"}},\"id\":\"1517\",\"type\":\"Circle\"},{\"attributes\":{\"fill_color\":{\"value\":\"yellow\"},\"line_color\":{\"value\":\"yellow\"},\"x\":{\"field\":\"iterations\"},\"y\":{\"field\":\"Norms11\"}},\"id\":\"1537\",\"type\":\"Circle\"},{\"attributes\":{\"bottom_units\":\"screen\",\"fill_alpha\":0.5,\"fill_color\":\"lightgrey\",\"left_units\":\"screen\",\"level\":\"overlay\",\"line_alpha\":1.0,\"line_color\":\"black\",\"line_dash\":[4,4],\"line_width\":2,\"right_units\":\"screen\",\"syncable\":false,\"top_units\":\"screen\"},\"id\":\"1468\",\"type\":\"BoxAnnotation\"},{\"attributes\":{\"overlay\":{\"id\":\"1468\"}},\"id\":\"1464\",\"type\":\"BoxZoomTool\"},{\"attributes\":{\"data_source\":{\"id\":\"1608\"},\"glyph\":{\"id\":\"1609\"},\"hover_glyph\":null,\"muted_glyph\":{\"id\":\"1611\"},\"nonselection_glyph\":{\"id\":\"1610\"},\"view\":{\"id\":\"1613\"}},\"id\":\"1612\",\"type\":\"GlyphRenderer\"},{\"attributes\":{\"fill_alpha\":{\"value\":0},\"fill_color\":{\"value\":\"white\"},\"line_alpha\":{\"value\":0},\"line_color\":{\"value\":\"orange\"},\"x\":{\"field\":\"iterations\"},\"y\":{\"field\":\"Norms11\"}},\"id\":\"1538\",\"type\":\"Circle\"},{\"attributes\":{\"fill_alpha\":{\"value\":0.3},\"fill_color\":{\"value\":\"lightgray\"},\"line_alpha\":{\"value\":0.3},\"line_color\":{\"value\":\"lightgray\"},\"x\":{\"field\":\"iterations\"},\"y\":{\"field\":\"Norms11\"}},\"id\":\"1536\",\"type\":\"Circle\"},{\"attributes\":{\"fill_alpha\":{\"value\":0},\"fill_color\":{\"value\":\"white\"},\"line_alpha\":{\"value\":0},\"line_color\":{\"value\":\"orange\"},\"x\":{\"field\":\"iterations\"},\"y\":{\"field\":\"Relative Errors 11\"}},\"id\":\"1652\",\"type\":\"Circle\"},{\"attributes\":{\"below\":[{\"id\":\"1568\"}],\"center\":[{\"id\":\"1571\"},{\"id\":\"1575\"},{\"id\":\"1606\"}],\"height\":300,\"left\":[{\"id\":\"1572\"}],\"renderers\":[{\"id\":\"1594\"},{\"id\":\"1612\"},{\"id\":\"1632\"},{\"id\":\"1653\"}],\"title\":{\"id\":\"1558\"},\"toolbar\":{\"id\":\"1583\"},\"toolbar_location\":null,\"x_range\":{\"id\":\"1560\"},\"x_scale\":{\"id\":\"1564\"},\"y_range\":{\"id\":\"1562\"},\"y_scale\":{\"id\":\"1566\"}},\"id\":\"1557\",\"subtype\":\"Figure\",\"type\":\"Plot\"},{\"attributes\":{\"active_multi\":null,\"tools\":[{\"id\":\"1462\"},{\"id\":\"1463\"},{\"id\":\"1464\"},{\"id\":\"1465\"},{\"id\":\"1466\"},{\"id\":\"1467\"},{\"id\":\"1673\"}]},\"id\":\"1469\",\"type\":\"Toolbar\"},{\"attributes\":{\"fill_alpha\":{\"value\":0.3},\"fill_color\":{\"value\":\"lightgray\"},\"line_alpha\":{\"value\":0.3},\"line_color\":{\"value\":\"lightgray\"},\"x\":{\"field\":\"iterations\"},\"y\":{\"field\":\"Relative Errors 11\"}},\"id\":\"1650\",\"type\":\"Circle\"},{\"attributes\":{\"data\":{\"Error_x0\":{\"__ndarray__\":\"AAAAAAAA4L+AEuQpQZ6CvwAEbx2hzV8/AKBTedokOj8AANRckt4KPwAANLPYjdY+\",\"dtype\":\"float64\",\"order\":\"little\",\"shape\":[6]},\"Error_x1\":{\"__ndarray__\":\"cNFFF110wT8A7jES2QuUPwDwitS04mE/AAArmchLKz8AAHK2xyfyPgAAgCF6iLQ+\",\"dtype\":\"float64\",\"order\":\"little\",\"shape\":[6]},\"Error_x2\":{\"__ndarray__\":\"GF100UUXvT8AwEXmL6oVPwAQO4a4lk2/AIBzp1LwI78AAMgEax3zvgAAcPrHtL6+\",\"dtype\":\"float64\",\"order\":\"little\",\"shape\":[6]},\"Error_x3\":{\"__ndarray__\":\"4KKLLrroor8AwleD8AZ+vwDIl0/mhk6/ACC9HOt0Gb8AAAiKMGXivgAAwJeNE6e+\",\"dtype\":\"float64\",\"order\":\"little\",\"shape\":[6]},\"Relative Errors 11\":{\"__ndarray__\":\"AAAAAAAA0D8A7jES2QuEPwDwitS04lE/AKBTedokKj8AANRckt76PgAANLPYjcY+\",\"dtype\":\"float64\",\"order\":\"little\",\"shape\":[6]},\"index\":[0,1,2,3,4,5],\"iterations\":[1,2,3,4,5,6]},\"selected\":{\"id\":\"1233\"},\"selection_policy\":{\"id\":\"1232\"}},\"id\":\"1004\",\"type\":\"ColumnDataSource\"},{\"attributes\":{\"data_source\":{\"id\":\"1590\"},\"glyph\":{\"id\":\"1591\"},\"hover_glyph\":null,\"muted_glyph\":{\"id\":\"1593\"},\"nonselection_glyph\":{\"id\":\"1592\"},\"view\":{\"id\":\"1595\"}},\"id\":\"1594\",\"type\":\"GlyphRenderer\"},{\"attributes\":{\"data_source\":{\"id\":\"1004\"},\"glyph\":{\"id\":\"1649\"},\"hover_glyph\":null,\"muted_glyph\":{\"id\":\"1652\"},\"nonselection_glyph\":{\"id\":\"1650\"},\"selection_glyph\":{\"id\":\"1651\"},\"view\":{\"id\":\"1654\"}},\"id\":\"1653\",\"type\":\"GlyphRenderer\"},{\"attributes\":{\"source\":{\"id\":\"1476\"}},\"id\":\"1481\",\"type\":\"CDSView\"},{\"attributes\":{\"data_source\":{\"id\":\"1002\"},\"glyph\":{\"id\":\"1535\"},\"hover_glyph\":null,\"muted_glyph\":{\"id\":\"1538\"},\"nonselection_glyph\":{\"id\":\"1536\"},\"selection_glyph\":{\"id\":\"1537\"},\"view\":{\"id\":\"1540\"}},\"id\":\"1539\",\"type\":\"GlyphRenderer\"},{\"attributes\":{\"line_alpha\":0,\"line_color\":\"blue\",\"line_width\":2,\"x\":{\"field\":\"x\"},\"y\":{\"field\":\"y\"}},\"id\":\"1479\",\"type\":\"Line\"},{\"attributes\":{\"source\":{\"id\":\"1004\"}},\"id\":\"1654\",\"type\":\"CDSView\"},{\"attributes\":{},\"id\":\"1095\",\"type\":\"UnionRenderers\"},{\"attributes\":{\"child\":{\"id\":\"1557\"},\"title\":\"Errors\"},\"id\":\"1678\",\"type\":\"Panel\"},{\"attributes\":{\"line_alpha\":0.1,\"line_color\":\"blue\",\"line_width\":2,\"x\":{\"field\":\"x\"},\"y\":{\"field\":\"y\"}},\"id\":\"1478\",\"type\":\"Line\"},{\"attributes\":{\"callback\":null,\"tooltips\":[[\"x0\",\"@x0\"],[\"x1\",\"@x1\"],[\"x2\",\"@x2\"],[\"x3\",\"@x3\"]]},\"id\":\"1673\",\"type\":\"HoverTool\"},{\"attributes\":{\"source\":{\"id\":\"1002\"}},\"id\":\"1540\",\"type\":\"CDSView\"},{\"attributes\":{\"child\":{\"id\":\"1443\"},\"title\":\"Convergence Criterion\"},\"id\":\"1677\",\"type\":\"Panel\"},{\"attributes\":{\"callback\":null,\"tooltips\":[[\"Error in x0\",\"@Error_x0\"],[\"Error in x1\",\"@Error_x1\"],[\"Error in x2\",\"@Error_x2\"],[\"Error in x3\",\"@Error_x3\"]]},\"id\":\"1675\",\"type\":\"HoverTool\"},{\"attributes\":{},\"id\":\"1096\",\"type\":\"Selection\"},{\"attributes\":{\"click_policy\":\"mute\",\"items\":[{\"id\":\"1493\"},{\"id\":\"1512\"}]},\"id\":\"1492\",\"type\":\"Legend\"},{\"attributes\":{\"label\":{\"value\":\"x0 = (0,0,0,0).T\"},\"renderers\":[{\"id\":\"1480\"},{\"id\":\"1518\"}]},\"id\":\"1493\",\"type\":\"LegendItem\"},{\"attributes\":{},\"id\":\"1462\",\"type\":\"PanTool\"},{\"attributes\":{},\"id\":\"1465\",\"type\":\"SaveTool\"},{\"attributes\":{\"data\":{\"x\":[1,2,3,4,5,6],\"y\":[0.2,0.01846900826446274,0.003292520661157039,0.00043048931254696665,4.5640142997460664e-05,4.181830667415731e-06]},\"selected\":{\"id\":\"1605\"},\"selection_policy\":{\"id\":\"1604\"}},\"id\":\"1590\",\"type\":\"ColumnDataSource\"},{\"attributes\":{\"data\":{\"x\":[1,2,3,4,5,6],\"y\":{\"__ndarray__\":\"Lrrooosu/j/dIqAHq2nNPxOvUxBQo4E/uBkaCHQpUD/m1Da1bMgmP95mVqHJDPg+\",\"dtype\":\"float64\",\"order\":\"little\",\"shape\":[6]}},\"selected\":{\"id\":\"1511\"},\"selection_policy\":{\"id\":\"1510\"}},\"id\":\"1494\",\"type\":\"ColumnDataSource\"},{\"attributes\":{\"below\":[{\"id\":\"1454\"}],\"center\":[{\"id\":\"1457\"},{\"id\":\"1461\"},{\"id\":\"1492\"}],\"height\":300,\"left\":[{\"id\":\"1458\"}],\"renderers\":[{\"id\":\"1480\"},{\"id\":\"1498\"},{\"id\":\"1518\"},{\"id\":\"1539\"}],\"title\":{\"id\":\"1444\"},\"toolbar\":{\"id\":\"1469\"},\"toolbar_location\":null,\"x_range\":{\"id\":\"1446\"},\"x_scale\":{\"id\":\"1450\"},\"y_range\":{\"id\":\"1448\"},\"y_scale\":{\"id\":\"1452\"}},\"id\":\"1443\",\"subtype\":\"Figure\",\"type\":\"Plot\"},{\"attributes\":{},\"id\":\"1562\",\"type\":\"DataRange1d\"},{\"attributes\":{},\"id\":\"1560\",\"type\":\"DataRange1d\"},{\"attributes\":{\"data_source\":{\"id\":\"1494\"},\"glyph\":{\"id\":\"1495\"},\"hover_glyph\":null,\"muted_glyph\":{\"id\":\"1497\"},\"nonselection_glyph\":{\"id\":\"1496\"},\"view\":{\"id\":\"1499\"}},\"id\":\"1498\",\"type\":\"GlyphRenderer\"},{\"attributes\":{\"data_source\":{\"id\":\"1476\"},\"glyph\":{\"id\":\"1477\"},\"hover_glyph\":null,\"muted_glyph\":{\"id\":\"1479\"},\"nonselection_glyph\":{\"id\":\"1478\"},\"view\":{\"id\":\"1481\"}},\"id\":\"1480\",\"type\":\"GlyphRenderer\"},{\"attributes\":{\"line_color\":\"blue\",\"line_width\":2,\"x\":{\"field\":\"x\"},\"y\":{\"field\":\"y\"}},\"id\":\"1477\",\"type\":\"Line\"},{\"attributes\":{\"text\":\"Relative Errors (L-infinity norm)\"},\"id\":\"1558\",\"type\":\"Title\"}],\"root_ids\":[\"1679\"]},\"title\":\"Bokeh Application\",\"version\":\"2.3.0\"}};\n",
       "  var render_items = [{\"docid\":\"c1bc451c-4e6f-4663-882d-597599f79da1\",\"root_ids\":[\"1679\"],\"roots\":{\"1679\":\"797c4984-5554-4569-896c-ad248faa760a\"}}];\n",
       "  root.Bokeh.embed.embed_items_notebook(docs_json, render_items);\n",
       "\n",
       "  }\n",
       "  if (root.Bokeh !== undefined) {\n",
       "    embed_document(root);\n",
       "  } else {\n",
       "    var attempts = 0;\n",
       "    var timer = setInterval(function(root) {\n",
       "      if (root.Bokeh !== undefined) {\n",
       "        clearInterval(timer);\n",
       "        embed_document(root);\n",
       "      } else {\n",
       "        attempts++;\n",
       "        if (attempts > 100) {\n",
       "          clearInterval(timer);\n",
       "          console.log(\"Bokeh: ERROR: Unable to run BokehJS code because BokehJS library is missing\");\n",
       "        }\n",
       "      }\n",
       "    }, 10, root)\n",
       "  }\n",
       "})(window);"
      ],
      "application/vnd.bokehjs_exec.v0+json": ""
     },
     "metadata": {
      "application/vnd.bokehjs_exec.v0+json": {
       "id": "1679"
      }
     },
     "output_type": "display_data"
    }
   ],
   "source": [
    "output_notebook()\n",
    "show(tabs)"
   ]
  },
  {
   "cell_type": "markdown",
   "id": "radical-smith",
   "metadata": {},
   "source": [
    "Note, the following visualisation is interactive. The 'Convergence Criterion' plot shows the iteration on the x-axis and the quotient $\\frac{\\norm{\\underline{x}^{(k+1)} - \\underline{x}^{(k)}}_{\\infty}}{\\norm{\\underline{x}^{(k)}}_{\\infty}}$ on the y-axis. If you click on one of the points, the value of $(x_{0}, x_{1}, x_{2}, x_{3})$ will become visible. The legend is interactive as well, you can turn the lines off/on by simply clicking on the legend. \n",
    "\n",
    "The second plot \"Errors\"  shows the number of iteration on the x-axis and the relative error on the y-axis. You can also click on each point to see the absolute errors for each $(x_{0}, x_{1}, x_{2}, x_{3})$. The legend can also be turned on/off. "
   ]
  },
  {
   "cell_type": "markdown",
   "id": "later-helen",
   "metadata": {},
   "source": [
    "<mark>Side Notes</mark>: In Convergence Criterion plot the first observation with the initial guess $x^{0} = (0,0,0,0).T$ is not plotted because the quotient equals to infinity. "
   ]
  },
  {
   "cell_type": "markdown",
   "id": "elementary-protocol",
   "metadata": {},
   "source": [
    "### Observations"
   ]
  },
  {
   "cell_type": "markdown",
   "id": "valid-establishment",
   "metadata": {},
   "source": [
    "We observe that Gauss-Seidel method with different initial guess converges to the solution with consistency to four decimal points in 6 iterations. From both plots above, we can observe, that the algorithm that uses the initial guess $x^{0} = (1,1,1,1).T$ converges slightly faster and starts stagnating - this behaviour is expected since this initial guess is closer to the actual solution. \n",
    "\n",
    "\n",
    "\n",
    "The second plot captures the relative errors: the relative errors have been chosen since they allow to see how large the error actualy is in relation to the correct value. The second plot corroborates with our results: it is easier to observe that between 2-4 iterations, for the initial guess $x^{0} = (1,1,1,1).T$ the relative error is smaller compared to  initial guess $x^{0} = (0,0,0,0).T$. We should also note, that this is supported by the theoretical result, that tells us that as the number of iterations increases, the error goes to zero.\n",
    "\n",
    "We should also keep in mind that the convergence criterion is quite critical since it determines the effectiveness of the initial guess. Here we are said to make use of the L infinity-norm.\n"
   ]
  },
  {
   "cell_type": "markdown",
   "id": "checked-ecology",
   "metadata": {},
   "source": [
    "\n",
    "**Let's now examine the rate of convergence**\n",
    "\n",
    "Let's first denote a few relevant ideas: \n",
    "\n",
    "We first should define a spectral radius: \n",
    "\n",
    "Given $ N \\times N$ matrix M the *spectral radius* $\\rho(\\textbf{M})$ is defined as\n",
    "\n",
    "\\begin{equation*}\n",
    "\\rho(\\textbf{M}) = \\max|\\lambda_{i}|, i = 1,2,...., n\n",
    "\\end{equation*}\n",
    "where $\\lambda$ is the eigenvalue of $\\textbf{M}$.\n",
    "\n",
    "\n",
    "Secondly, let's suppose that matrix $A$ can be written in the form\n",
    "\n",
    "\\begin{equation*}\n",
    "M = L + D + U\n",
    "\\end{equation*}\n",
    "\n",
    "where \n",
    "1. D is a matrix with **ONLY** diagonal elements of $M$\n",
    "2. L is a strictly lower-triangular matrix \n",
    "3. U is strictly upper part of M\n",
    "\n",
    "For Gauss-Seidel we have:\n",
    "\n",
    "\\begin{equation*}\n",
    "IM = B^{-1}(A+C)\n",
    "\\end{equation*}\n",
    "\n",
    "Convergence of the GS method is proven theoretically by showing that the spectral radius of the iteration matrix $\\textbf{IM} < 1$ [<sup>5</sup>](#fn5).\n",
    "\n",
    "\n",
    "In numerical analysis, we are often interested in determining the rate of convergence of the method. The spectral radius is shown to be a good measure of the rate of convergence. \n",
    "We say that $|\\lambda_{1}| > |\\lambda_{}|$ $(i = 2, ..., N)$, then \n",
    "\n",
    "\\begin{equation*}\n",
    "\\textbf{v}^{(k)} = \\alpha_{1}\\lambda^{k}_{1}\\textbf{e}_{1} + \\sum_{i=2}^{N}\\alpha_{i}\\lambda_{i}^{k}\\textbf{e}_{1} = \\lambda_{i}^{k} \\big[\\alpha_{1}\\textbf{e}_{1} + \\sum_{i=2}^{N}\\alpha_{i} \\big (\\frac{\\lambda_{i}}{\\lambda_{1}} \\big )^{k} \\textbf{e}_{i} \\big ]\n",
    "\\end{equation*}\n",
    "where $\\textbf{e}_{i}$ are the eigenvectors. \n",
    "\n",
    "Given that $\\frac{\\lambda_{1}}{\\lambda_{1}}$ $(i = 2, ..., N)$ for large $k$,\n",
    "\n",
    "\\begin{equation*}\n",
    "\\textbf{v}^{(k)} \\simeq \\alpha_{i}\\lambda^{k}_{1}\\textbf{e}_{1} ,\n",
    "\\end{equation*}\n",
    "where $\\textbf{e}_{1}$ is the first eigenvector. \n",
    "\n",
    "Hence, the error associated with $\\textbf{x}^{(k)}$, *k*th vector in the sequence, is given by $\\textbf{v}^{(k)}$ which varies approximately as a *k*th of the largest eigenvalue. In other words, it varies as the *k*th power of the spectral radius $\\rho(\\textbf{M}) = \\max|\\lambda_{1}|$. Therefore, the spectral radius is a good indication of the rate of convergence. If it is < 1, it also ensures that the sequence will converge [<sup>4</sup>](#fn4).\n",
    "\n",
    "\n",
    "\n",
    "\n",
    "\n"
   ]
  },
  {
   "cell_type": "code",
   "execution_count": 44,
   "id": "prepared-cartoon",
   "metadata": {},
   "outputs": [],
   "source": [
    "# Finding spectral radius\n",
    "# T = (D-L)^{-1}U\n",
    "UPPER = np.triu(A) - np.diag(A) * np.identity(4)\n",
    "LOWER = np.tril(A) - np.diag(A) * np.identity(4)\n",
    "DIAGONAL = np.diag(A) * np.identity(4)"
   ]
  },
  {
   "cell_type": "code",
   "execution_count": 45,
   "id": "victorian-bernard",
   "metadata": {},
   "outputs": [
    {
     "name": "stdout",
     "output_type": "stream",
     "text": [
      "Spectral radius: 0.42643661084234186\n"
     ]
    }
   ],
   "source": [
    "max_eigenvalue = max(abs(np.linalg.eig(np.linalg.inv(DIAGONAL) @ (LOWER + UPPER))[0]))\n",
    "print('Spectral radius:', max_eigenvalue)"
   ]
  },
  {
   "cell_type": "markdown",
   "id": "opening-script",
   "metadata": {},
   "source": [
    "Thus, as $ k \\rightarrow \\infty$, the iterates converge to zero at a rate governed by the dominant eigenvalue."
   ]
  },
  {
   "cell_type": "markdown",
   "id": "dated-description",
   "metadata": {},
   "source": [
    "***"
   ]
  },
  {
   "cell_type": "markdown",
   "id": "peripheral-joint",
   "metadata": {},
   "source": [
    "#### Exercise 4. **SOR:** Using an accelarion factor of $\\omega=1.1$, repeat part 3. above for $\\textbf{x}^{(0)} = (0,0,0,0)$"
   ]
  },
  {
   "cell_type": "code",
   "execution_count": 47,
   "id": "eleven-season",
   "metadata": {},
   "outputs": [
    {
     "name": "stdout",
     "output_type": "stream",
     "text": [
      "Iteration: 1 \n",
      " Solution vector: [ 0.66        2.566      -1.07294     0.85649575] \n",
      " Inf norm: inf\n",
      "Iteration: 2 \n",
      " Solution vector: [ 1.1123068   1.99038796 -1.03425629  1.01360515] \n",
      " Inf norm: 0.22432269875292288\n",
      "Iteration: 3 \n",
      " Solution vector: [ 0.99524838  1.99297887 -0.99480477  1.00225005] \n",
      " Inf norm: 0.05881186187694755\n",
      "Iteration: 4 \n",
      " Solution vector: [ 0.99855989  2.00040261 -0.99991091  0.99962117] \n",
      " Inf norm: 0.0037249485598974\n",
      "Iteration: 5 \n",
      " Solution vector: [ 1.0001687   2.00009917 -1.00007679  0.99998642] \n",
      " Inf norm: 0.0008042432684686864\n",
      "Iteration: 6 \n",
      " Solution vector: [ 1.00001093  1.99998757 -0.99999759  1.00000682] \n",
      " Inf norm: 7.887918876179545e-05\n"
     ]
    },
    {
     "name": "stderr",
     "output_type": "stream",
     "text": [
      "<ipython-input-14-2bf733c1a108>:42: RuntimeWarning: divide by zero encountered in double_scalars\n",
      "  stopCond = np.linalg.norm(x - previous_x, ord=np.inf) / np.linalg.norm(previous_x, ord=np.inf)\n"
     ]
    }
   ],
   "source": [
    "# Exercise 4\n",
    "x0 = np.zeros(4)\n",
    "x_sor, norms_sor, _, _ = gauss_seidel(A,b, x0, omega=1.1)"
   ]
  },
  {
   "cell_type": "markdown",
   "id": "superior-highway",
   "metadata": {},
   "source": [
    "Let's now calculate our $\\omega$ based on the spectral radius that we have calculated above. We should note that there is no complete answer to how $\\omega$ should be chosen - yet there are a number of well known results which can be used in certain cases.\n",
    "\n",
    "First, theory: \n",
    "\n",
    "\n",
    "A *positive definite* matrix is a symmetric matrix with all *positive* eigenvalues. All $n$ eigenvalues $\\lambda$ are real numbers. \n",
    "\n",
    "If A is positive define tridiagonal matrix, then the optimal choice for $\\omega$ for GS method: \n",
    "\n",
    "\\begin{equation*}\n",
    "\\omega = \\frac{2}{ 1 + \\sqrt{1-\\rho(T_{g})}}\n",
    "\\end{equation*}\n",
    "\n",
    "\n",
    "Our matrix $A$ is indeed positive definite, yet matrix $A$ is not sparse. In general, SOR method works exceptionally well for the solution of large sparse systems since 1) it allows to converge quicker and 2) it is wasteful to use general methods because most of the arithmetic operations devoted to solving the set of equations involve sero operands. \n",
    "\n",
    "We shall now find $\\omega$ based on computer spectral radius and see whether we converge quicker."
   ]
  },
  {
   "cell_type": "code",
   "execution_count": 48,
   "id": "external-science",
   "metadata": {},
   "outputs": [
    {
     "data": {
      "text/plain": [
       "1.1380839026584906"
      ]
     },
     "execution_count": 48,
     "metadata": {},
     "output_type": "execute_result"
    }
   ],
   "source": [
    "2 / (1 + np.sqrt(1 - max_eigenvalue))"
   ]
  },
  {
   "cell_type": "code",
   "execution_count": 49,
   "id": "considerable-monday",
   "metadata": {},
   "outputs": [
    {
     "name": "stdout",
     "output_type": "stream",
     "text": [
      "Iteration: 1 \n",
      " Solution vector: [ 0.6828      2.6570024  -1.10483841  0.84271096] \n",
      " Inf norm: inf\n",
      "Iteration: 2 \n",
      " Solution vector: [ 1.14240169  1.96203656 -1.04016266  1.03219365] \n",
      " Inf norm: 0.2615601102534797\n",
      "Iteration: 3 \n",
      " Solution vector: [ 0.98516935  1.98955791 -0.98860677  1.00163413] \n",
      " Inf norm: 0.08013731768441176\n",
      "Iteration: 4 \n",
      " Solution vector: [ 0.99826522  2.00193305 -1.00077149  0.99883982] \n",
      " Inf norm: 0.006582303219158766\n",
      "Iteration: 5 \n",
      " Solution vector: [ 1.00063497  2.00007919 -1.00016107  1.0001034 ] \n",
      " Inf norm: 0.0011837306207425273\n",
      "Iteration: 6 \n",
      " Solution vector: [ 0.99995805  1.99993598 -0.99996374  1.00001821] \n",
      " Inf norm: 0.0003384487494547429\n",
      "Iteration: 7 \n",
      " Solution vector: [ 0.99999025  2.00000593 -1.00000004  0.99999495] \n",
      " Inf norm: 3.497552888259114e-05\n"
     ]
    },
    {
     "name": "stderr",
     "output_type": "stream",
     "text": [
      "<ipython-input-14-2bf733c1a108>:42: RuntimeWarning: divide by zero encountered in double_scalars\n",
      "  stopCond = np.linalg.norm(x - previous_x, ord=np.inf) / np.linalg.norm(previous_x, ord=np.inf)\n"
     ]
    },
    {
     "data": {
      "text/plain": [
       "(array([ 0.99999025,  2.00000593, -1.00000004,  0.99999495]),\n",
       " array([       inf, 0.26156011, 0.08013732, 0.0065823 , 0.00118373,\n",
       "        0.00033845, 0.00003498]),\n",
       " array([[ 0.        ,  0.        ,  0.        ,  0.        ],\n",
       "        [ 0.6828    ,  2.6570024 , -1.10483841,  0.84271096],\n",
       "        [ 1.14240169,  1.96203656, -1.04016266,  1.03219365],\n",
       "        [ 0.98516935,  1.98955791, -0.98860677,  1.00163413],\n",
       "        [ 0.99826522,  2.00193305, -1.00077149,  0.99883982],\n",
       "        [ 1.00063497,  2.00007919, -1.00016107,  1.0001034 ],\n",
       "        [ 0.99995805,  1.99993598, -0.99996374,  1.00001821],\n",
       "        [ 0.99999025,  2.00000593, -1.00000004,  0.99999495]]),\n",
       " 7)"
      ]
     },
     "execution_count": 49,
     "metadata": {},
     "output_type": "execute_result"
    }
   ],
   "source": [
    "x0 = np.zeros(4)\n",
    "gauss_seidel(A,b, x0, omega=1.138)"
   ]
  },
  {
   "cell_type": "markdown",
   "id": "super-chamber",
   "metadata": {},
   "source": [
    "We see that if $\\omega = 1.138$ it takes +1 iteration to converge to the solution assuming that the consistency has not been changed. \n",
    "\n",
    "We suppose that if our system was indeed sparse, the SOR method would be more suited and would perform better."
   ]
  },
  {
   "cell_type": "markdown",
   "id": "fixed-economy",
   "metadata": {},
   "source": [
    "***"
   ]
  },
  {
   "cell_type": "markdown",
   "id": "union-charlotte",
   "metadata": {},
   "source": [
    "### Include a report which discusses your results, together with interesting observations of accuracy and computational efficiency."
   ]
  },
  {
   "cell_type": "markdown",
   "id": "natural-brooks",
   "metadata": {},
   "source": [
    "<mark>MARKED</mark> **Let's now calculate the results, plot them and investigate computational efficiency. If the plot down below is not generated, one should simply rerun the functions written below. Interactive plots are integrated with JS so they might not be visible once the notebook is disconnected from kernel.**"
   ]
  },
  {
   "cell_type": "code",
   "execution_count": 51,
   "id": "consolidated-cooper",
   "metadata": {},
   "outputs": [],
   "source": [
    "from IPython.display import clear_output\n",
    "tolerance = [1e-1, 1e-2, 1e-3, 1e-4, 1e-5, 1e-6, 1e-7, 1e-8, 1e-9, 1e-9, 1e-10, 1e-11, 1e-12]\n",
    "iterations_GS = []\n",
    "iterations_SOR_given = []\n",
    "iterations_SOR_calculated = []\n",
    "for i in range(len(tolerance)):\n",
    "    x0 = np.zeros(4)\n",
    "    _, _, _, iterations = gauss_seidel(A, b, x0, tol = tolerance[i])\n",
    "    iterations_GS.append(iterations)\n",
    "    _, _, _, iterations = gauss_seidel(A, b, x0, tol = tolerance[i], omega = 1.1)\n",
    "    iterations_SOR_given.append(iterations)\n",
    "    _, _, _, iterations = gauss_seidel(A, b, x0, tol = tolerance[i], omega = 1.138)\n",
    "    iterations_SOR_calculated.append(iterations)\n",
    "    clear_output()"
   ]
  },
  {
   "cell_type": "code",
   "execution_count": 52,
   "id": "final-approach",
   "metadata": {},
   "outputs": [
    {
     "data": {
      "text/html": [
       "<div style=\"display: table;\"><div style=\"display: table-row;\"><div style=\"display: table-cell;\"><b title=\"bokeh.models.renderers.GlyphRenderer\">GlyphRenderer</b>(</div><div style=\"display: table-cell;\">id&nbsp;=&nbsp;'2049', <span id=\"2072\" style=\"cursor: pointer;\">&hellip;)</span></div></div><div class=\"2071\" style=\"display: none;\"><div style=\"display: table-cell;\"></div><div style=\"display: table-cell;\">data_source&nbsp;=&nbsp;ColumnDataSource(id='2044', ...),</div></div><div class=\"2071\" style=\"display: none;\"><div style=\"display: table-cell;\"></div><div style=\"display: table-cell;\">glyph&nbsp;=&nbsp;Circle(id='2045', ...),</div></div><div class=\"2071\" style=\"display: none;\"><div style=\"display: table-cell;\"></div><div style=\"display: table-cell;\">hover_glyph&nbsp;=&nbsp;None,</div></div><div class=\"2071\" style=\"display: none;\"><div style=\"display: table-cell;\"></div><div style=\"display: table-cell;\">js_event_callbacks&nbsp;=&nbsp;{},</div></div><div class=\"2071\" style=\"display: none;\"><div style=\"display: table-cell;\"></div><div style=\"display: table-cell;\">js_property_callbacks&nbsp;=&nbsp;{},</div></div><div class=\"2071\" style=\"display: none;\"><div style=\"display: table-cell;\"></div><div style=\"display: table-cell;\">level&nbsp;=&nbsp;'glyph',</div></div><div class=\"2071\" style=\"display: none;\"><div style=\"display: table-cell;\"></div><div style=\"display: table-cell;\">muted&nbsp;=&nbsp;False,</div></div><div class=\"2071\" style=\"display: none;\"><div style=\"display: table-cell;\"></div><div style=\"display: table-cell;\">muted_glyph&nbsp;=&nbsp;Circle(id='2048', ...),</div></div><div class=\"2071\" style=\"display: none;\"><div style=\"display: table-cell;\"></div><div style=\"display: table-cell;\">name&nbsp;=&nbsp;None,</div></div><div class=\"2071\" style=\"display: none;\"><div style=\"display: table-cell;\"></div><div style=\"display: table-cell;\">nonselection_glyph&nbsp;=&nbsp;Circle(id='2046', ...),</div></div><div class=\"2071\" style=\"display: none;\"><div style=\"display: table-cell;\"></div><div style=\"display: table-cell;\">selection_glyph&nbsp;=&nbsp;Circle(id='2047', ...),</div></div><div class=\"2071\" style=\"display: none;\"><div style=\"display: table-cell;\"></div><div style=\"display: table-cell;\">subscribed_events&nbsp;=&nbsp;[],</div></div><div class=\"2071\" style=\"display: none;\"><div style=\"display: table-cell;\"></div><div style=\"display: table-cell;\">syncable&nbsp;=&nbsp;True,</div></div><div class=\"2071\" style=\"display: none;\"><div style=\"display: table-cell;\"></div><div style=\"display: table-cell;\">tags&nbsp;=&nbsp;[],</div></div><div class=\"2071\" style=\"display: none;\"><div style=\"display: table-cell;\"></div><div style=\"display: table-cell;\">view&nbsp;=&nbsp;CDSView(id='2050', ...),</div></div><div class=\"2071\" style=\"display: none;\"><div style=\"display: table-cell;\"></div><div style=\"display: table-cell;\">visible&nbsp;=&nbsp;True,</div></div><div class=\"2071\" style=\"display: none;\"><div style=\"display: table-cell;\"></div><div style=\"display: table-cell;\">x_range_name&nbsp;=&nbsp;'default',</div></div><div class=\"2071\" style=\"display: none;\"><div style=\"display: table-cell;\"></div><div style=\"display: table-cell;\">y_range_name&nbsp;=&nbsp;'default')</div></div></div>\n",
       "<script>\n",
       "(function() {\n",
       "  var expanded = false;\n",
       "  var ellipsis = document.getElementById(\"2072\");\n",
       "  ellipsis.addEventListener(\"click\", function() {\n",
       "    var rows = document.getElementsByClassName(\"2071\");\n",
       "    for (var i = 0; i < rows.length; i++) {\n",
       "      var el = rows[i];\n",
       "      el.style.display = expanded ? \"none\" : \"table-row\";\n",
       "    }\n",
       "    ellipsis.innerHTML = expanded ? \"&hellip;)\" : \"&lsaquo;&lsaquo;&lsaquo;\";\n",
       "    expanded = !expanded;\n",
       "  });\n",
       "})();\n",
       "</script>\n"
      ],
      "text/plain": [
       "GlyphRenderer(id='2049', ...)"
      ]
     },
     "execution_count": 52,
     "metadata": {},
     "output_type": "execute_result"
    }
   ],
   "source": [
    "# Creating plotting objects\n",
    "efficiency = figure(\n",
    "                  x_axis_type=\"log\", plot_height=300, plot_width=600,\n",
    "                  title='Computational Efficiency',\n",
    "                  x_axis_label='Tolerance', y_axis_label='Iterations',\n",
    "                  toolbar_location=None)\n",
    "efficiency.line(tolerance, iterations_GS, legend_label='Gauss-Seidel', line_color=\"blue\", line_width=1, muted_alpha=0)\n",
    "efficiency.line(tolerance, iterations_SOR_given, legend_label='SOR, omega = 1.1', line_color=\"orange\", line_width=1, muted_alpha=0)\n",
    "efficiency.line(tolerance, iterations_SOR_calculated, legend_label='SOR, omega = 1.138', line_color=\"green\", line_width=1, muted_alpha=0)\n",
    "efficiency.circle(x= tolerance,\n",
    "           y=iterations_GS,\n",
    "           color='royalblue',\n",
    "             fill_color=\"white\",\n",
    "           selection_color='deepskyblue',\n",
    "           nonselection_color='lightgray',\n",
    "           legend_label='Gauss-Seidel',\n",
    "            muted_alpha=0,\n",
    "           nonselection_alpha=0.3)\n",
    "efficiency.circle(x= tolerance,\n",
    "           y=iterations_SOR_given,\n",
    "           color='orange',\n",
    "             fill_color=\"white\",\n",
    "           selection_color='deepskyblue',\n",
    "           nonselection_color='lightgray',\n",
    "           legend_label='SOR, omega = 1.1',\n",
    "            muted_alpha=0,\n",
    "           nonselection_alpha=0.3)\n",
    "efficiency.circle(x= tolerance,\n",
    "           y=iterations_SOR_calculated,\n",
    "           color='green',\n",
    "             fill_color=\"white\",\n",
    "           selection_color='deepskyblue',\n",
    "           nonselection_color='lightgray',\n",
    "           legend_label='SOR, omega = 1.138',\n",
    "            muted_alpha=0,\n",
    "           nonselection_alpha=0.3)"
   ]
  },
  {
   "cell_type": "code",
   "execution_count": 53,
   "id": "equipped-arrest",
   "metadata": {},
   "outputs": [],
   "source": [
    "efficiency.legend.click_policy = 'hide'\n",
    "efficiency.legend.click_policy = 'mute'"
   ]
  },
  {
   "cell_type": "code",
   "execution_count": 99,
   "id": "regulated-hybrid",
   "metadata": {},
   "outputs": [
    {
     "data": {
      "text/html": [
       "\n",
       "    <div class=\"bk-root\">\n",
       "        <a href=\"https://bokeh.org\" target=\"_blank\" class=\"bk-logo bk-logo-small bk-logo-notebook\"></a>\n",
       "        <span id=\"2419\">Loading BokehJS ...</span>\n",
       "    </div>"
      ]
     },
     "metadata": {},
     "output_type": "display_data"
    },
    {
     "data": {
      "application/javascript": [
       "\n",
       "(function(root) {\n",
       "  function now() {\n",
       "    return new Date();\n",
       "  }\n",
       "\n",
       "  var force = true;\n",
       "\n",
       "  if (typeof root._bokeh_onload_callbacks === \"undefined\" || force === true) {\n",
       "    root._bokeh_onload_callbacks = [];\n",
       "    root._bokeh_is_loading = undefined;\n",
       "  }\n",
       "\n",
       "  var JS_MIME_TYPE = 'application/javascript';\n",
       "  var HTML_MIME_TYPE = 'text/html';\n",
       "  var EXEC_MIME_TYPE = 'application/vnd.bokehjs_exec.v0+json';\n",
       "  var CLASS_NAME = 'output_bokeh rendered_html';\n",
       "\n",
       "  /**\n",
       "   * Render data to the DOM node\n",
       "   */\n",
       "  function render(props, node) {\n",
       "    var script = document.createElement(\"script\");\n",
       "    node.appendChild(script);\n",
       "  }\n",
       "\n",
       "  /**\n",
       "   * Handle when an output is cleared or removed\n",
       "   */\n",
       "  function handleClearOutput(event, handle) {\n",
       "    var cell = handle.cell;\n",
       "\n",
       "    var id = cell.output_area._bokeh_element_id;\n",
       "    var server_id = cell.output_area._bokeh_server_id;\n",
       "    // Clean up Bokeh references\n",
       "    if (id != null && id in Bokeh.index) {\n",
       "      Bokeh.index[id].model.document.clear();\n",
       "      delete Bokeh.index[id];\n",
       "    }\n",
       "\n",
       "    if (server_id !== undefined) {\n",
       "      // Clean up Bokeh references\n",
       "      var cmd = \"from bokeh.io.state import curstate; print(curstate().uuid_to_server['\" + server_id + \"'].get_sessions()[0].document.roots[0]._id)\";\n",
       "      cell.notebook.kernel.execute(cmd, {\n",
       "        iopub: {\n",
       "          output: function(msg) {\n",
       "            var id = msg.content.text.trim();\n",
       "            if (id in Bokeh.index) {\n",
       "              Bokeh.index[id].model.document.clear();\n",
       "              delete Bokeh.index[id];\n",
       "            }\n",
       "          }\n",
       "        }\n",
       "      });\n",
       "      // Destroy server and session\n",
       "      var cmd = \"import bokeh.io.notebook as ion; ion.destroy_server('\" + server_id + \"')\";\n",
       "      cell.notebook.kernel.execute(cmd);\n",
       "    }\n",
       "  }\n",
       "\n",
       "  /**\n",
       "   * Handle when a new output is added\n",
       "   */\n",
       "  function handleAddOutput(event, handle) {\n",
       "    var output_area = handle.output_area;\n",
       "    var output = handle.output;\n",
       "\n",
       "    // limit handleAddOutput to display_data with EXEC_MIME_TYPE content only\n",
       "    if ((output.output_type != \"display_data\") || (!Object.prototype.hasOwnProperty.call(output.data, EXEC_MIME_TYPE))) {\n",
       "      return\n",
       "    }\n",
       "\n",
       "    var toinsert = output_area.element.find(\".\" + CLASS_NAME.split(' ')[0]);\n",
       "\n",
       "    if (output.metadata[EXEC_MIME_TYPE][\"id\"] !== undefined) {\n",
       "      toinsert[toinsert.length - 1].firstChild.textContent = output.data[JS_MIME_TYPE];\n",
       "      // store reference to embed id on output_area\n",
       "      output_area._bokeh_element_id = output.metadata[EXEC_MIME_TYPE][\"id\"];\n",
       "    }\n",
       "    if (output.metadata[EXEC_MIME_TYPE][\"server_id\"] !== undefined) {\n",
       "      var bk_div = document.createElement(\"div\");\n",
       "      bk_div.innerHTML = output.data[HTML_MIME_TYPE];\n",
       "      var script_attrs = bk_div.children[0].attributes;\n",
       "      for (var i = 0; i < script_attrs.length; i++) {\n",
       "        toinsert[toinsert.length - 1].firstChild.setAttribute(script_attrs[i].name, script_attrs[i].value);\n",
       "        toinsert[toinsert.length - 1].firstChild.textContent = bk_div.children[0].textContent\n",
       "      }\n",
       "      // store reference to server id on output_area\n",
       "      output_area._bokeh_server_id = output.metadata[EXEC_MIME_TYPE][\"server_id\"];\n",
       "    }\n",
       "  }\n",
       "\n",
       "  function register_renderer(events, OutputArea) {\n",
       "\n",
       "    function append_mime(data, metadata, element) {\n",
       "      // create a DOM node to render to\n",
       "      var toinsert = this.create_output_subarea(\n",
       "        metadata,\n",
       "        CLASS_NAME,\n",
       "        EXEC_MIME_TYPE\n",
       "      );\n",
       "      this.keyboard_manager.register_events(toinsert);\n",
       "      // Render to node\n",
       "      var props = {data: data, metadata: metadata[EXEC_MIME_TYPE]};\n",
       "      render(props, toinsert[toinsert.length - 1]);\n",
       "      element.append(toinsert);\n",
       "      return toinsert\n",
       "    }\n",
       "\n",
       "    /* Handle when an output is cleared or removed */\n",
       "    events.on('clear_output.CodeCell', handleClearOutput);\n",
       "    events.on('delete.Cell', handleClearOutput);\n",
       "\n",
       "    /* Handle when a new output is added */\n",
       "    events.on('output_added.OutputArea', handleAddOutput);\n",
       "\n",
       "    /**\n",
       "     * Register the mime type and append_mime function with output_area\n",
       "     */\n",
       "    OutputArea.prototype.register_mime_type(EXEC_MIME_TYPE, append_mime, {\n",
       "      /* Is output safe? */\n",
       "      safe: true,\n",
       "      /* Index of renderer in `output_area.display_order` */\n",
       "      index: 0\n",
       "    });\n",
       "  }\n",
       "\n",
       "  // register the mime type if in Jupyter Notebook environment and previously unregistered\n",
       "  if (root.Jupyter !== undefined) {\n",
       "    var events = require('base/js/events');\n",
       "    var OutputArea = require('notebook/js/outputarea').OutputArea;\n",
       "\n",
       "    if (OutputArea.prototype.mime_types().indexOf(EXEC_MIME_TYPE) == -1) {\n",
       "      register_renderer(events, OutputArea);\n",
       "    }\n",
       "  }\n",
       "\n",
       "  \n",
       "  if (typeof (root._bokeh_timeout) === \"undefined\" || force === true) {\n",
       "    root._bokeh_timeout = Date.now() + 5000;\n",
       "    root._bokeh_failed_load = false;\n",
       "  }\n",
       "\n",
       "  var NB_LOAD_WARNING = {'data': {'text/html':\n",
       "     \"<div style='background-color: #fdd'>\\n\"+\n",
       "     \"<p>\\n\"+\n",
       "     \"BokehJS does not appear to have successfully loaded. If loading BokehJS from CDN, this \\n\"+\n",
       "     \"may be due to a slow or bad network connection. Possible fixes:\\n\"+\n",
       "     \"</p>\\n\"+\n",
       "     \"<ul>\\n\"+\n",
       "     \"<li>re-rerun `output_notebook()` to attempt to load from CDN again, or</li>\\n\"+\n",
       "     \"<li>use INLINE resources instead, as so:</li>\\n\"+\n",
       "     \"</ul>\\n\"+\n",
       "     \"<code>\\n\"+\n",
       "     \"from bokeh.resources import INLINE\\n\"+\n",
       "     \"output_notebook(resources=INLINE)\\n\"+\n",
       "     \"</code>\\n\"+\n",
       "     \"</div>\"}};\n",
       "\n",
       "  function display_loaded() {\n",
       "    var el = document.getElementById(\"2419\");\n",
       "    if (el != null) {\n",
       "      el.textContent = \"BokehJS is loading...\";\n",
       "    }\n",
       "    if (root.Bokeh !== undefined) {\n",
       "      if (el != null) {\n",
       "        el.textContent = \"BokehJS \" + root.Bokeh.version + \" successfully loaded.\";\n",
       "      }\n",
       "    } else if (Date.now() < root._bokeh_timeout) {\n",
       "      setTimeout(display_loaded, 100)\n",
       "    }\n",
       "  }\n",
       "\n",
       "\n",
       "  function run_callbacks() {\n",
       "    try {\n",
       "      root._bokeh_onload_callbacks.forEach(function(callback) {\n",
       "        if (callback != null)\n",
       "          callback();\n",
       "      });\n",
       "    } finally {\n",
       "      delete root._bokeh_onload_callbacks\n",
       "    }\n",
       "    console.debug(\"Bokeh: all callbacks have finished\");\n",
       "  }\n",
       "\n",
       "  function load_libs(css_urls, js_urls, callback) {\n",
       "    if (css_urls == null) css_urls = [];\n",
       "    if (js_urls == null) js_urls = [];\n",
       "\n",
       "    root._bokeh_onload_callbacks.push(callback);\n",
       "    if (root._bokeh_is_loading > 0) {\n",
       "      console.debug(\"Bokeh: BokehJS is being loaded, scheduling callback at\", now());\n",
       "      return null;\n",
       "    }\n",
       "    if (js_urls == null || js_urls.length === 0) {\n",
       "      run_callbacks();\n",
       "      return null;\n",
       "    }\n",
       "    console.debug(\"Bokeh: BokehJS not loaded, scheduling load and callback at\", now());\n",
       "    root._bokeh_is_loading = css_urls.length + js_urls.length;\n",
       "\n",
       "    function on_load() {\n",
       "      root._bokeh_is_loading--;\n",
       "      if (root._bokeh_is_loading === 0) {\n",
       "        console.debug(\"Bokeh: all BokehJS libraries/stylesheets loaded\");\n",
       "        run_callbacks()\n",
       "      }\n",
       "    }\n",
       "\n",
       "    function on_error(url) {\n",
       "      console.error(\"failed to load \" + url);\n",
       "    }\n",
       "\n",
       "    for (let i = 0; i < css_urls.length; i++) {\n",
       "      const url = css_urls[i];\n",
       "      const element = document.createElement(\"link\");\n",
       "      element.onload = on_load;\n",
       "      element.onerror = on_error.bind(null, url);\n",
       "      element.rel = \"stylesheet\";\n",
       "      element.type = \"text/css\";\n",
       "      element.href = url;\n",
       "      console.debug(\"Bokeh: injecting link tag for BokehJS stylesheet: \", url);\n",
       "      document.body.appendChild(element);\n",
       "    }\n",
       "\n",
       "    const hashes = {\"https://cdn.bokeh.org/bokeh/release/bokeh-2.3.0.min.js\": \"HjagQp6T0/7bxYTAXbLotF1MLAGWmhkY5siA1Gc/pcEgvgRPtMsRn0gQtMwGKiw1\", \"https://cdn.bokeh.org/bokeh/release/bokeh-widgets-2.3.0.min.js\": \"ZEPPTjL+mdyqgIq+/pl9KTwzji8Kow2NnI3zWY8+sFinWP/SYJ80BnfeJsa45iYj\", \"https://cdn.bokeh.org/bokeh/release/bokeh-tables-2.3.0.min.js\": \"exLqv2ACDRIaV7ZK1iL8aGzGYQvKVuT3U2CT7FsQREBxRah6JrkVCoFy0koY1YqV\"};\n",
       "\n",
       "    for (let i = 0; i < js_urls.length; i++) {\n",
       "      const url = js_urls[i];\n",
       "      const element = document.createElement('script');\n",
       "      element.onload = on_load;\n",
       "      element.onerror = on_error.bind(null, url);\n",
       "      element.async = false;\n",
       "      element.src = url;\n",
       "      if (url in hashes) {\n",
       "        element.crossOrigin = \"anonymous\";\n",
       "        element.integrity = \"sha384-\" + hashes[url];\n",
       "      }\n",
       "      console.debug(\"Bokeh: injecting script tag for BokehJS library: \", url);\n",
       "      document.head.appendChild(element);\n",
       "    }\n",
       "  };\n",
       "\n",
       "  function inject_raw_css(css) {\n",
       "    const element = document.createElement(\"style\");\n",
       "    element.appendChild(document.createTextNode(css));\n",
       "    document.body.appendChild(element);\n",
       "  }\n",
       "\n",
       "  \n",
       "  var js_urls = [\"https://cdn.bokeh.org/bokeh/release/bokeh-2.3.0.min.js\", \"https://cdn.bokeh.org/bokeh/release/bokeh-widgets-2.3.0.min.js\", \"https://cdn.bokeh.org/bokeh/release/bokeh-tables-2.3.0.min.js\"];\n",
       "  var css_urls = [];\n",
       "  \n",
       "\n",
       "  var inline_js = [\n",
       "    function(Bokeh) {\n",
       "      Bokeh.set_log_level(\"info\");\n",
       "    },\n",
       "    function(Bokeh) {\n",
       "    \n",
       "    \n",
       "    }\n",
       "  ];\n",
       "\n",
       "  function run_inline_js() {\n",
       "    \n",
       "    if (root.Bokeh !== undefined || force === true) {\n",
       "      \n",
       "    for (var i = 0; i < inline_js.length; i++) {\n",
       "      inline_js[i].call(root, root.Bokeh);\n",
       "    }\n",
       "    if (force === true) {\n",
       "        display_loaded();\n",
       "      }} else if (Date.now() < root._bokeh_timeout) {\n",
       "      setTimeout(run_inline_js, 100);\n",
       "    } else if (!root._bokeh_failed_load) {\n",
       "      console.log(\"Bokeh: BokehJS failed to load within specified timeout.\");\n",
       "      root._bokeh_failed_load = true;\n",
       "    } else if (force !== true) {\n",
       "      var cell = $(document.getElementById(\"2419\")).parents('.cell').data().cell;\n",
       "      cell.output_area.append_execute_result(NB_LOAD_WARNING)\n",
       "    }\n",
       "\n",
       "  }\n",
       "\n",
       "  if (root._bokeh_is_loading === 0) {\n",
       "    console.debug(\"Bokeh: BokehJS loaded, going straight to plotting\");\n",
       "    run_inline_js();\n",
       "  } else {\n",
       "    load_libs(css_urls, js_urls, function() {\n",
       "      console.debug(\"Bokeh: BokehJS plotting callback run at\", now());\n",
       "      run_inline_js();\n",
       "    });\n",
       "  }\n",
       "}(window));"
      ],
      "application/vnd.bokehjs_load.v0+json": "\n(function(root) {\n  function now() {\n    return new Date();\n  }\n\n  var force = true;\n\n  if (typeof root._bokeh_onload_callbacks === \"undefined\" || force === true) {\n    root._bokeh_onload_callbacks = [];\n    root._bokeh_is_loading = undefined;\n  }\n\n  \n\n  \n  if (typeof (root._bokeh_timeout) === \"undefined\" || force === true) {\n    root._bokeh_timeout = Date.now() + 5000;\n    root._bokeh_failed_load = false;\n  }\n\n  var NB_LOAD_WARNING = {'data': {'text/html':\n     \"<div style='background-color: #fdd'>\\n\"+\n     \"<p>\\n\"+\n     \"BokehJS does not appear to have successfully loaded. If loading BokehJS from CDN, this \\n\"+\n     \"may be due to a slow or bad network connection. Possible fixes:\\n\"+\n     \"</p>\\n\"+\n     \"<ul>\\n\"+\n     \"<li>re-rerun `output_notebook()` to attempt to load from CDN again, or</li>\\n\"+\n     \"<li>use INLINE resources instead, as so:</li>\\n\"+\n     \"</ul>\\n\"+\n     \"<code>\\n\"+\n     \"from bokeh.resources import INLINE\\n\"+\n     \"output_notebook(resources=INLINE)\\n\"+\n     \"</code>\\n\"+\n     \"</div>\"}};\n\n  function display_loaded() {\n    var el = document.getElementById(\"2419\");\n    if (el != null) {\n      el.textContent = \"BokehJS is loading...\";\n    }\n    if (root.Bokeh !== undefined) {\n      if (el != null) {\n        el.textContent = \"BokehJS \" + root.Bokeh.version + \" successfully loaded.\";\n      }\n    } else if (Date.now() < root._bokeh_timeout) {\n      setTimeout(display_loaded, 100)\n    }\n  }\n\n\n  function run_callbacks() {\n    try {\n      root._bokeh_onload_callbacks.forEach(function(callback) {\n        if (callback != null)\n          callback();\n      });\n    } finally {\n      delete root._bokeh_onload_callbacks\n    }\n    console.debug(\"Bokeh: all callbacks have finished\");\n  }\n\n  function load_libs(css_urls, js_urls, callback) {\n    if (css_urls == null) css_urls = [];\n    if (js_urls == null) js_urls = [];\n\n    root._bokeh_onload_callbacks.push(callback);\n    if (root._bokeh_is_loading > 0) {\n      console.debug(\"Bokeh: BokehJS is being loaded, scheduling callback at\", now());\n      return null;\n    }\n    if (js_urls == null || js_urls.length === 0) {\n      run_callbacks();\n      return null;\n    }\n    console.debug(\"Bokeh: BokehJS not loaded, scheduling load and callback at\", now());\n    root._bokeh_is_loading = css_urls.length + js_urls.length;\n\n    function on_load() {\n      root._bokeh_is_loading--;\n      if (root._bokeh_is_loading === 0) {\n        console.debug(\"Bokeh: all BokehJS libraries/stylesheets loaded\");\n        run_callbacks()\n      }\n    }\n\n    function on_error(url) {\n      console.error(\"failed to load \" + url);\n    }\n\n    for (let i = 0; i < css_urls.length; i++) {\n      const url = css_urls[i];\n      const element = document.createElement(\"link\");\n      element.onload = on_load;\n      element.onerror = on_error.bind(null, url);\n      element.rel = \"stylesheet\";\n      element.type = \"text/css\";\n      element.href = url;\n      console.debug(\"Bokeh: injecting link tag for BokehJS stylesheet: \", url);\n      document.body.appendChild(element);\n    }\n\n    const hashes = {\"https://cdn.bokeh.org/bokeh/release/bokeh-2.3.0.min.js\": \"HjagQp6T0/7bxYTAXbLotF1MLAGWmhkY5siA1Gc/pcEgvgRPtMsRn0gQtMwGKiw1\", \"https://cdn.bokeh.org/bokeh/release/bokeh-widgets-2.3.0.min.js\": \"ZEPPTjL+mdyqgIq+/pl9KTwzji8Kow2NnI3zWY8+sFinWP/SYJ80BnfeJsa45iYj\", \"https://cdn.bokeh.org/bokeh/release/bokeh-tables-2.3.0.min.js\": \"exLqv2ACDRIaV7ZK1iL8aGzGYQvKVuT3U2CT7FsQREBxRah6JrkVCoFy0koY1YqV\"};\n\n    for (let i = 0; i < js_urls.length; i++) {\n      const url = js_urls[i];\n      const element = document.createElement('script');\n      element.onload = on_load;\n      element.onerror = on_error.bind(null, url);\n      element.async = false;\n      element.src = url;\n      if (url in hashes) {\n        element.crossOrigin = \"anonymous\";\n        element.integrity = \"sha384-\" + hashes[url];\n      }\n      console.debug(\"Bokeh: injecting script tag for BokehJS library: \", url);\n      document.head.appendChild(element);\n    }\n  };\n\n  function inject_raw_css(css) {\n    const element = document.createElement(\"style\");\n    element.appendChild(document.createTextNode(css));\n    document.body.appendChild(element);\n  }\n\n  \n  var js_urls = [\"https://cdn.bokeh.org/bokeh/release/bokeh-2.3.0.min.js\", \"https://cdn.bokeh.org/bokeh/release/bokeh-widgets-2.3.0.min.js\", \"https://cdn.bokeh.org/bokeh/release/bokeh-tables-2.3.0.min.js\"];\n  var css_urls = [];\n  \n\n  var inline_js = [\n    function(Bokeh) {\n      Bokeh.set_log_level(\"info\");\n    },\n    function(Bokeh) {\n    \n    \n    }\n  ];\n\n  function run_inline_js() {\n    \n    if (root.Bokeh !== undefined || force === true) {\n      \n    for (var i = 0; i < inline_js.length; i++) {\n      inline_js[i].call(root, root.Bokeh);\n    }\n    if (force === true) {\n        display_loaded();\n      }} else if (Date.now() < root._bokeh_timeout) {\n      setTimeout(run_inline_js, 100);\n    } else if (!root._bokeh_failed_load) {\n      console.log(\"Bokeh: BokehJS failed to load within specified timeout.\");\n      root._bokeh_failed_load = true;\n    } else if (force !== true) {\n      var cell = $(document.getElementById(\"2419\")).parents('.cell').data().cell;\n      cell.output_area.append_execute_result(NB_LOAD_WARNING)\n    }\n\n  }\n\n  if (root._bokeh_is_loading === 0) {\n    console.debug(\"Bokeh: BokehJS loaded, going straight to plotting\");\n    run_inline_js();\n  } else {\n    load_libs(css_urls, js_urls, function() {\n      console.debug(\"Bokeh: BokehJS plotting callback run at\", now());\n      run_inline_js();\n    });\n  }\n}(window));"
     },
     "metadata": {},
     "output_type": "display_data"
    },
    {
     "data": {
      "text/html": [
       "\n",
       "\n",
       "\n",
       "\n",
       "\n",
       "\n",
       "  <div class=\"bk-root\" id=\"8724683a-2a06-4c04-92d0-0df43255824b\" data-root-id=\"1905\"></div>\n"
      ]
     },
     "metadata": {},
     "output_type": "display_data"
    },
    {
     "data": {
      "application/javascript": [
       "(function(root) {\n",
       "  function embed_document(root) {\n",
       "    \n",
       "  var docs_json = {\"aa42ca3f-bbba-4a07-b947-d01e4fe43130\":{\"defs\":[{\"extends\":null,\"module\":null,\"name\":\"DataModel\",\"overrides\":[],\"properties\":[]}],\"roots\":{\"references\":[{\"attributes\":{\"below\":[{\"id\":\"1916\"}],\"center\":[{\"id\":\"1919\"},{\"id\":\"1923\"},{\"id\":\"1954\"}],\"height\":300,\"left\":[{\"id\":\"1920\"}],\"renderers\":[{\"id\":\"1942\"},{\"id\":\"1960\"},{\"id\":\"1979\"},{\"id\":\"2001\"},{\"id\":\"2024\"},{\"id\":\"2049\"}],\"title\":{\"id\":\"1906\"},\"toolbar\":{\"id\":\"1931\"},\"toolbar_location\":null,\"x_range\":{\"id\":\"1908\"},\"x_scale\":{\"id\":\"1912\"},\"y_range\":{\"id\":\"1910\"},\"y_scale\":{\"id\":\"1914\"}},\"id\":\"1905\",\"subtype\":\"Figure\",\"type\":\"Plot\"},{\"attributes\":{},\"id\":\"1994\",\"type\":\"Selection\"},{\"attributes\":{\"line_color\":\"blue\",\"x\":{\"field\":\"x\"},\"y\":{\"field\":\"y\"}},\"id\":\"1939\",\"type\":\"Line\"},{\"attributes\":{\"line_alpha\":0,\"line_color\":\"blue\",\"x\":{\"field\":\"x\"},\"y\":{\"field\":\"y\"}},\"id\":\"1941\",\"type\":\"Line\"},{\"attributes\":{\"click_policy\":\"mute\",\"items\":[{\"id\":\"1955\"},{\"id\":\"1974\"},{\"id\":\"1995\"}]},\"id\":\"1954\",\"type\":\"Legend\"},{\"attributes\":{\"data_source\":{\"id\":\"1975\"},\"glyph\":{\"id\":\"1976\"},\"hover_glyph\":null,\"muted_glyph\":{\"id\":\"1978\"},\"nonselection_glyph\":{\"id\":\"1977\"},\"view\":{\"id\":\"1980\"}},\"id\":\"1979\",\"type\":\"GlyphRenderer\"},{\"attributes\":{\"data_source\":{\"id\":\"1996\"},\"glyph\":{\"id\":\"1997\"},\"hover_glyph\":null,\"muted_glyph\":{\"id\":\"2000\"},\"nonselection_glyph\":{\"id\":\"1998\"},\"selection_glyph\":{\"id\":\"1999\"},\"view\":{\"id\":\"2002\"}},\"id\":\"2001\",\"type\":\"GlyphRenderer\"},{\"attributes\":{\"data\":{\"x\":[0.1,0.01,0.001,0.0001,1e-05,1e-06,1e-07,1e-08,1e-09,1e-09,1e-10,1e-11,1e-12],\"y\":[3,4,5,6,7,9,10,10,10,10,10,10,10]},\"selected\":{\"id\":\"2043\"},\"selection_policy\":{\"id\":\"2042\"}},\"id\":\"2019\",\"type\":\"ColumnDataSource\"},{\"attributes\":{\"fill_alpha\":{\"value\":0.3},\"fill_color\":{\"value\":\"lightgray\"},\"line_alpha\":{\"value\":0.3},\"line_color\":{\"value\":\"lightgray\"},\"x\":{\"field\":\"x\"},\"y\":{\"field\":\"y\"}},\"id\":\"1998\",\"type\":\"Circle\"},{\"attributes\":{\"line_alpha\":0,\"line_color\":\"orange\",\"x\":{\"field\":\"x\"},\"y\":{\"field\":\"y\"}},\"id\":\"1959\",\"type\":\"Line\"},{\"attributes\":{\"fill_color\":{\"value\":\"deepskyblue\"},\"line_color\":{\"value\":\"deepskyblue\"},\"x\":{\"field\":\"x\"},\"y\":{\"field\":\"y\"}},\"id\":\"1999\",\"type\":\"Circle\"},{\"attributes\":{\"fill_alpha\":{\"value\":0},\"fill_color\":{\"value\":\"white\"},\"line_alpha\":{\"value\":0},\"line_color\":{\"value\":\"royalblue\"},\"x\":{\"field\":\"x\"},\"y\":{\"field\":\"y\"}},\"id\":\"2000\",\"type\":\"Circle\"},{\"attributes\":{\"data\":{\"x\":[0.1,0.01,0.001,0.0001,1e-05,1e-06,1e-07,1e-08,1e-09,1e-09,1e-10,1e-11,1e-12],\"y\":[3,4,6,7,8,9,10,10,10,10,10,10,10]},\"selected\":{\"id\":\"1994\"},\"selection_policy\":{\"id\":\"1993\"}},\"id\":\"1975\",\"type\":\"ColumnDataSource\"},{\"attributes\":{\"line_color\":\"orange\",\"x\":{\"field\":\"x\"},\"y\":{\"field\":\"y\"}},\"id\":\"1957\",\"type\":\"Line\"},{\"attributes\":{\"source\":{\"id\":\"1996\"}},\"id\":\"2002\",\"type\":\"CDSView\"},{\"attributes\":{\"source\":{\"id\":\"1956\"}},\"id\":\"1961\",\"type\":\"CDSView\"},{\"attributes\":{\"line_alpha\":0.1,\"line_color\":\"orange\",\"x\":{\"field\":\"x\"},\"y\":{\"field\":\"y\"}},\"id\":\"1958\",\"type\":\"Line\"},{\"attributes\":{\"label\":{\"value\":\"SOR, omega = 1.1\"},\"renderers\":[{\"id\":\"1960\"},{\"id\":\"2024\"}]},\"id\":\"1974\",\"type\":\"LegendItem\"},{\"attributes\":{},\"id\":\"1947\",\"type\":\"BasicTickFormatter\"},{\"attributes\":{},\"id\":\"2017\",\"type\":\"UnionRenderers\"},{\"attributes\":{},\"id\":\"2018\",\"type\":\"Selection\"},{\"attributes\":{},\"id\":\"1952\",\"type\":\"UnionRenderers\"},{\"attributes\":{},\"id\":\"1972\",\"type\":\"UnionRenderers\"},{\"attributes\":{},\"id\":\"1973\",\"type\":\"Selection\"},{\"attributes\":{},\"id\":\"1953\",\"type\":\"Selection\"},{\"attributes\":{\"label\":{\"value\":\"Gauss-Seidel\"},\"renderers\":[{\"id\":\"1942\"},{\"id\":\"2001\"}]},\"id\":\"1955\",\"type\":\"LegendItem\"},{\"attributes\":{\"line_alpha\":0.1,\"line_color\":\"blue\",\"x\":{\"field\":\"x\"},\"y\":{\"field\":\"y\"}},\"id\":\"1940\",\"type\":\"Line\"},{\"attributes\":{\"fill_color\":{\"value\":\"white\"},\"line_color\":{\"value\":\"orange\"},\"x\":{\"field\":\"x\"},\"y\":{\"field\":\"y\"}},\"id\":\"2020\",\"type\":\"Circle\"},{\"attributes\":{\"source\":{\"id\":\"1938\"}},\"id\":\"1943\",\"type\":\"CDSView\"},{\"attributes\":{\"fill_color\":{\"value\":\"white\"},\"line_color\":{\"value\":\"royalblue\"},\"x\":{\"field\":\"x\"},\"y\":{\"field\":\"y\"}},\"id\":\"1997\",\"type\":\"Circle\"},{\"attributes\":{\"fill_color\":{\"value\":\"white\"},\"line_color\":{\"value\":\"green\"},\"x\":{\"field\":\"x\"},\"y\":{\"field\":\"y\"}},\"id\":\"2045\",\"type\":\"Circle\"},{\"attributes\":{\"fill_alpha\":{\"value\":0.3},\"fill_color\":{\"value\":\"lightgray\"},\"line_alpha\":{\"value\":0.3},\"line_color\":{\"value\":\"lightgray\"},\"x\":{\"field\":\"x\"},\"y\":{\"field\":\"y\"}},\"id\":\"2021\",\"type\":\"Circle\"},{\"attributes\":{\"line_alpha\":0,\"line_color\":\"green\",\"x\":{\"field\":\"x\"},\"y\":{\"field\":\"y\"}},\"id\":\"1978\",\"type\":\"Line\"},{\"attributes\":{\"data\":{\"x\":[0.1,0.01,0.001,0.0001,1e-05,1e-06,1e-07,1e-08,1e-09,1e-09,1e-10,1e-11,1e-12],\"y\":[3,4,6,7,8,9,10,10,10,10,10,10,10]},\"selected\":{\"id\":\"2070\"},\"selection_policy\":{\"id\":\"2069\"}},\"id\":\"2044\",\"type\":\"ColumnDataSource\"},{\"attributes\":{\"data\":{\"x\":[0.1,0.01,0.001,0.0001,1e-05,1e-06,1e-07,1e-08,1e-09,1e-09,1e-10,1e-11,1e-12],\"y\":[3,4,5,6,7,8,9,10,10,10,10,10,10]},\"selected\":{\"id\":\"2018\"},\"selection_policy\":{\"id\":\"2017\"}},\"id\":\"1996\",\"type\":\"ColumnDataSource\"},{\"attributes\":{\"data_source\":{\"id\":\"2019\"},\"glyph\":{\"id\":\"2020\"},\"hover_glyph\":null,\"muted_glyph\":{\"id\":\"2023\"},\"nonselection_glyph\":{\"id\":\"2021\"},\"selection_glyph\":{\"id\":\"2022\"},\"view\":{\"id\":\"2025\"}},\"id\":\"2024\",\"type\":\"GlyphRenderer\"},{\"attributes\":{\"line_color\":\"green\",\"x\":{\"field\":\"x\"},\"y\":{\"field\":\"y\"}},\"id\":\"1976\",\"type\":\"Line\"},{\"attributes\":{\"source\":{\"id\":\"1975\"}},\"id\":\"1980\",\"type\":\"CDSView\"},{\"attributes\":{\"line_alpha\":0.1,\"line_color\":\"green\",\"x\":{\"field\":\"x\"},\"y\":{\"field\":\"y\"}},\"id\":\"1977\",\"type\":\"Line\"},{\"attributes\":{\"fill_color\":{\"value\":\"deepskyblue\"},\"line_color\":{\"value\":\"deepskyblue\"},\"x\":{\"field\":\"x\"},\"y\":{\"field\":\"y\"}},\"id\":\"2022\",\"type\":\"Circle\"},{\"attributes\":{},\"id\":\"1948\",\"type\":\"AllLabels\"},{\"attributes\":{\"fill_alpha\":{\"value\":0},\"fill_color\":{\"value\":\"white\"},\"line_alpha\":{\"value\":0},\"line_color\":{\"value\":\"orange\"},\"x\":{\"field\":\"x\"},\"y\":{\"field\":\"y\"}},\"id\":\"2023\",\"type\":\"Circle\"},{\"attributes\":{\"source\":{\"id\":\"2019\"}},\"id\":\"2025\",\"type\":\"CDSView\"},{\"attributes\":{\"label\":{\"value\":\"SOR, omega = 1.138\"},\"renderers\":[{\"id\":\"1979\"},{\"id\":\"2049\"}]},\"id\":\"1995\",\"type\":\"LegendItem\"},{\"attributes\":{\"ticker\":null},\"id\":\"1950\",\"type\":\"LogTickFormatter\"},{\"attributes\":{},\"id\":\"2042\",\"type\":\"UnionRenderers\"},{\"attributes\":{},\"id\":\"1993\",\"type\":\"UnionRenderers\"},{\"attributes\":{},\"id\":\"2043\",\"type\":\"Selection\"},{\"attributes\":{},\"id\":\"1924\",\"type\":\"PanTool\"},{\"attributes\":{\"text\":\"Computational Efficiency\"},\"id\":\"1906\",\"type\":\"Title\"},{\"attributes\":{\"overlay\":{\"id\":\"1930\"}},\"id\":\"1926\",\"type\":\"BoxZoomTool\"},{\"attributes\":{\"num_minor_ticks\":10},\"id\":\"1917\",\"type\":\"LogTicker\"},{\"attributes\":{},\"id\":\"1945\",\"type\":\"AllLabels\"},{\"attributes\":{\"axis_label\":\"Tolerance\",\"formatter\":{\"id\":\"1950\"},\"major_label_policy\":{\"id\":\"1948\"},\"ticker\":{\"id\":\"1917\"}},\"id\":\"1916\",\"type\":\"LogAxis\"},{\"attributes\":{},\"id\":\"1914\",\"type\":\"LinearScale\"},{\"attributes\":{\"fill_alpha\":{\"value\":0.3},\"fill_color\":{\"value\":\"lightgray\"},\"line_alpha\":{\"value\":0.3},\"line_color\":{\"value\":\"lightgray\"},\"x\":{\"field\":\"x\"},\"y\":{\"field\":\"y\"}},\"id\":\"2046\",\"type\":\"Circle\"},{\"attributes\":{\"data_source\":{\"id\":\"1938\"},\"glyph\":{\"id\":\"1939\"},\"hover_glyph\":null,\"muted_glyph\":{\"id\":\"1941\"},\"nonselection_glyph\":{\"id\":\"1940\"},\"view\":{\"id\":\"1943\"}},\"id\":\"1942\",\"type\":\"GlyphRenderer\"},{\"attributes\":{\"data_source\":{\"id\":\"2044\"},\"glyph\":{\"id\":\"2045\"},\"hover_glyph\":null,\"muted_glyph\":{\"id\":\"2048\"},\"nonselection_glyph\":{\"id\":\"2046\"},\"selection_glyph\":{\"id\":\"2047\"},\"view\":{\"id\":\"2050\"}},\"id\":\"2049\",\"type\":\"GlyphRenderer\"},{\"attributes\":{\"fill_color\":{\"value\":\"deepskyblue\"},\"line_color\":{\"value\":\"deepskyblue\"},\"x\":{\"field\":\"x\"},\"y\":{\"field\":\"y\"}},\"id\":\"2047\",\"type\":\"Circle\"},{\"attributes\":{\"fill_alpha\":{\"value\":0},\"fill_color\":{\"value\":\"white\"},\"line_alpha\":{\"value\":0},\"line_color\":{\"value\":\"green\"},\"x\":{\"field\":\"x\"},\"y\":{\"field\":\"y\"}},\"id\":\"2048\",\"type\":\"Circle\"},{\"attributes\":{},\"id\":\"1929\",\"type\":\"HelpTool\"},{\"attributes\":{\"source\":{\"id\":\"2044\"}},\"id\":\"2050\",\"type\":\"CDSView\"},{\"attributes\":{\"axis\":{\"id\":\"1916\"},\"ticker\":null},\"id\":\"1919\",\"type\":\"Grid\"},{\"attributes\":{},\"id\":\"2069\",\"type\":\"UnionRenderers\"},{\"attributes\":{},\"id\":\"1927\",\"type\":\"SaveTool\"},{\"attributes\":{},\"id\":\"1912\",\"type\":\"LogScale\"},{\"attributes\":{},\"id\":\"2070\",\"type\":\"Selection\"},{\"attributes\":{},\"id\":\"1910\",\"type\":\"DataRange1d\"},{\"attributes\":{\"data\":{\"x\":[0.1,0.01,0.001,0.0001,1e-05,1e-06,1e-07,1e-08,1e-09,1e-09,1e-10,1e-11,1e-12],\"y\":[3,4,5,6,7,8,9,10,10,10,10,10,10]},\"selected\":{\"id\":\"1953\"},\"selection_policy\":{\"id\":\"1952\"}},\"id\":\"1938\",\"type\":\"ColumnDataSource\"},{\"attributes\":{\"bottom_units\":\"screen\",\"fill_alpha\":0.5,\"fill_color\":\"lightgrey\",\"left_units\":\"screen\",\"level\":\"overlay\",\"line_alpha\":1.0,\"line_color\":\"black\",\"line_dash\":[4,4],\"line_width\":2,\"right_units\":\"screen\",\"syncable\":false,\"top_units\":\"screen\"},\"id\":\"1930\",\"type\":\"BoxAnnotation\"},{\"attributes\":{},\"id\":\"1908\",\"type\":\"DataRange1d\"},{\"attributes\":{\"data\":{\"x\":[0.1,0.01,0.001,0.0001,1e-05,1e-06,1e-07,1e-08,1e-09,1e-09,1e-10,1e-11,1e-12],\"y\":[3,4,5,6,7,9,10,10,10,10,10,10,10]},\"selected\":{\"id\":\"1973\"},\"selection_policy\":{\"id\":\"1972\"}},\"id\":\"1956\",\"type\":\"ColumnDataSource\"},{\"attributes\":{},\"id\":\"1921\",\"type\":\"BasicTicker\"},{\"attributes\":{\"data_source\":{\"id\":\"1956\"},\"glyph\":{\"id\":\"1957\"},\"hover_glyph\":null,\"muted_glyph\":{\"id\":\"1959\"},\"nonselection_glyph\":{\"id\":\"1958\"},\"view\":{\"id\":\"1961\"}},\"id\":\"1960\",\"type\":\"GlyphRenderer\"},{\"attributes\":{},\"id\":\"1925\",\"type\":\"WheelZoomTool\"},{\"attributes\":{},\"id\":\"1928\",\"type\":\"ResetTool\"},{\"attributes\":{\"active_multi\":null,\"tools\":[{\"id\":\"1924\"},{\"id\":\"1925\"},{\"id\":\"1926\"},{\"id\":\"1927\"},{\"id\":\"1928\"},{\"id\":\"1929\"}]},\"id\":\"1931\",\"type\":\"Toolbar\"},{\"attributes\":{\"axis\":{\"id\":\"1920\"},\"dimension\":1,\"ticker\":null},\"id\":\"1923\",\"type\":\"Grid\"},{\"attributes\":{\"axis_label\":\"Iterations\",\"formatter\":{\"id\":\"1947\"},\"major_label_policy\":{\"id\":\"1945\"},\"ticker\":{\"id\":\"1921\"}},\"id\":\"1920\",\"type\":\"LinearAxis\"}],\"root_ids\":[\"1905\"]},\"title\":\"Bokeh Application\",\"version\":\"2.3.0\"}};\n",
       "  var render_items = [{\"docid\":\"aa42ca3f-bbba-4a07-b947-d01e4fe43130\",\"root_ids\":[\"1905\"],\"roots\":{\"1905\":\"8724683a-2a06-4c04-92d0-0df43255824b\"}}];\n",
       "  root.Bokeh.embed.embed_items_notebook(docs_json, render_items);\n",
       "\n",
       "  }\n",
       "  if (root.Bokeh !== undefined) {\n",
       "    embed_document(root);\n",
       "  } else {\n",
       "    var attempts = 0;\n",
       "    var timer = setInterval(function(root) {\n",
       "      if (root.Bokeh !== undefined) {\n",
       "        clearInterval(timer);\n",
       "        embed_document(root);\n",
       "      } else {\n",
       "        attempts++;\n",
       "        if (attempts > 100) {\n",
       "          clearInterval(timer);\n",
       "          console.log(\"Bokeh: ERROR: Unable to run BokehJS code because BokehJS library is missing\");\n",
       "        }\n",
       "      }\n",
       "    }, 10, root)\n",
       "  }\n",
       "})(window);"
      ],
      "application/vnd.bokehjs_exec.v0+json": ""
     },
     "metadata": {
      "application/vnd.bokehjs_exec.v0+json": {
       "id": "1905"
      }
     },
     "output_type": "display_data"
    }
   ],
   "source": [
    "output_notebook()\n",
    "show(efficiency)"
   ]
  },
  {
   "cell_type": "markdown",
   "id": "chief-courage",
   "metadata": {},
   "source": [
    "The following semilog plot examines the computational efficiency of three algorithms: the tolerance level is given on the x-axis and number of iterations it takes for the algorithm to converge is given as x-axis. $x^{0} = (0,0,0,0)$ is taken as initial guess. \n",
    "\n",
    "Direct method that involves constructing LU factorization is good for dense systems of small to moderate size, however as the coefficient matrix becomes large and sparse, it becomes wasteful as most of the arithmetic operations devoted to solving the set of equations involve zero operanda. One big advantage of iterative techniques is that we can control how accurate we want our solution, for example, if we want our solution to be $\\varepsilon$-accurate (whether relative or absolute), we set the termination criteria accordignly. This saves a lot of computations! We now examine the computational efficiency of iterative techniques applied to our initial problem.\n",
    "\n",
    "We note that when the tolerance level is set between $1e-12 \\text{ and } 1e-8$, for all three algorithms it takes the same amount of iterations to converge, yet as the epsilon gets large, we shall observe that the number of iterations start differ. Firstly, let's examine the difference between Gauss-Seidel and SOR (omega = 1.1) methods: it takes the same amount of iterations for both to converge, except when the epsilon is set to $1e-7$ and $1e-6$. For those, GS method converges slightly faster (1 iteration less). Secondly, let's compare the results for SOR method with two $\\omega$, set to 1.1 and 1.138 respectively. When the $\\varepsilon < 1e-5$, we do not see any difference, however as epsilone gets large, it takes one iteration less for SOR method with $\\omega = 1.1$. \n",
    "\n",
    "We note that the purpose of over-relaxation methods is to accelerate the converges of systems which are convergent by Gauss-Seidel[<sup>5</sup>](#fn5). Therefore, we shall conclude that our results are inconclusive, since we cannot observe a significant difference in computational efficiency. This analysis can be expanded if one takes a sparse system and compare efficiency results for aforementioned methods. \n"
   ]
  },
  {
   "cell_type": "code",
   "execution_count": 85,
   "id": "banner-coach",
   "metadata": {},
   "outputs": [
    {
     "name": "stdout",
     "output_type": "stream",
     "text": [
      "CPU times: user 3.87 ms, sys: 1.86 ms, total: 5.73 ms\n",
      "Wall time: 4.35 ms\n"
     ]
    }
   ],
   "source": [
    "%%time \n",
    "gauss_seidel(A, b, x0)\n",
    "clear_output()"
   ]
  },
  {
   "cell_type": "code",
   "execution_count": 91,
   "id": "broad-patrick",
   "metadata": {},
   "outputs": [
    {
     "name": "stdout",
     "output_type": "stream",
     "text": [
      "CPU times: user 4.91 ms, sys: 2.93 ms, total: 7.83 ms\n",
      "Wall time: 5.38 ms\n"
     ]
    }
   ],
   "source": [
    "%%time \n",
    "gauss_seidel(A, b, x0, omega=1.1)\n",
    "clear_output()\n"
   ]
  },
  {
   "cell_type": "code",
   "execution_count": 92,
   "id": "ahead-ballet",
   "metadata": {},
   "outputs": [
    {
     "name": "stdout",
     "output_type": "stream",
     "text": [
      "CPU times: user 4.41 ms, sys: 2.43 ms, total: 6.84 ms\n",
      "Wall time: 4.8 ms\n"
     ]
    }
   ],
   "source": [
    "%%time \n",
    "gauss_seidel(A, b, x0, omega=1.138)\n",
    "clear_output()"
   ]
  },
  {
   "cell_type": "markdown",
   "id": "hairy-evidence",
   "metadata": {},
   "source": [
    "### References\n",
    "<span id=\"fn1\">[1] Lim, L.-H. (n.d.). Mathematical Computations, The University of Chicago. Retrieved March 31, 2021, from http://www.stat.uchicago.edu/~lekheng/courses/309f16/notes/lect16.pdf.</span> <br>\n",
    "<span id=\"fn2\">[2] Gabellini Francesca. (n.d.). Iterative Methods for Solving Linear Systems.</span> <br>\n",
    "<span id=\"fn3\">[3] Strang, G. (2019). Linear Algebra and Learning from Data. www.wellesleycambridge.com</span> <br>\n",
    "<span id=\"fn4\">[4] Olver, P. J. (n.d.). Numerical Analysis Lecture Notes 7. Iterative Methods for Linear Systems.</span> <br>\n",
    "<span id=\"fn5\">[5] Ahmad, R. (2021). Numerical Linear Algebra.</span> <br>"
   ]
  },
  {
   "cell_type": "markdown",
   "id": "amino-catering",
   "metadata": {},
   "source": []
  },
  {
   "cell_type": "code",
   "execution_count": null,
   "id": "suited-montana",
   "metadata": {},
   "outputs": [],
   "source": []
  }
 ],
 "metadata": {
  "kernelspec": {
   "display_name": "Python 3",
   "language": "python",
   "name": "python3"
  },
  "language_info": {
   "codemirror_mode": {
    "name": "ipython",
    "version": 3
   },
   "file_extension": ".py",
   "mimetype": "text/x-python",
   "name": "python",
   "nbconvert_exporter": "python",
   "pygments_lexer": "ipython3",
   "version": "3.8.6"
  }
 },
 "nbformat": 4,
 "nbformat_minor": 5
}
